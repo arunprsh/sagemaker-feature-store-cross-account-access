{
 "cells": [
  {
   "cell_type": "markdown",
   "metadata": {},
   "source": [
    "# Account C\n",
    "### Read/Write to its own Online Store (Account C) + Read/Write to Account A's Offline Store (Centralized Store)"
   ]
  },
  {
   "cell_type": "markdown",
   "metadata": {},
   "source": [
    "#### Prerequisites"
   ]
  },
  {
   "cell_type": "code",
   "execution_count": 1,
   "metadata": {},
   "outputs": [],
   "source": [
    "#!pip install awswrangler"
   ]
  },
  {
   "cell_type": "markdown",
   "metadata": {},
   "source": [
    "#### Imports "
   ]
  },
  {
   "cell_type": "code",
   "execution_count": 2,
   "metadata": {},
   "outputs": [],
   "source": [
    "from sagemaker.feature_store.feature_group import FeatureGroup\n",
    "from sagemaker import get_execution_role\n",
    "from sagemaker.session import Session\n",
    "import awswrangler as wr\n",
    "import pandas as pd\n",
    "import sagemaker\n",
    "import logging\n",
    "import boto3\n",
    "import time\n",
    "import s3fs"
   ]
  },
  {
   "cell_type": "markdown",
   "metadata": {},
   "source": [
    "#### Setup Logger"
   ]
  },
  {
   "cell_type": "code",
   "execution_count": 3,
   "metadata": {},
   "outputs": [],
   "source": [
    "logger = logging.getLogger('sagemaker')\n",
    "logger.setLevel(logging.INFO)\n",
    "logger.addHandler(logging.StreamHandler())"
   ]
  },
  {
   "cell_type": "code",
   "execution_count": 4,
   "metadata": {},
   "outputs": [
    {
     "name": "stderr",
     "output_type": "stream",
     "text": [
      "[Using SageMaker version: 2.19.0]\n"
     ]
    }
   ],
   "source": [
    "logger.info(f'[Using SageMaker version: {sagemaker.__version__}]')"
   ]
  },
  {
   "cell_type": "markdown",
   "metadata": {},
   "source": [
    "#### Essentials \n",
    "* Create SageMaker & Feature Store Runtime Clients\n",
    "* Create a Feature Store Session encapsulating the above clients\n",
    "* Ensure the Execution Role you use for this notebook has both `AmazonSageMakerFullAccess` and `AmazonSageMakerFeatureStoreAccess` managed policies attached to it. If not, please make sure to attach them to the role before proceeding."
   ]
  },
  {
   "cell_type": "code",
   "execution_count": 5,
   "metadata": {},
   "outputs": [],
   "source": [
    "region = boto3.Session().region_name\n",
    "boto_session = boto3.Session(region_name=region)\n",
    "s3 = boto_session.resource('s3', region_name=region)\n",
    "role = get_execution_role()\n",
    "\n",
    "s3_client = boto3.client('s3', region_name=region)\n",
    "sagemaker_client = boto_session.client(service_name='sagemaker', region_name=region)\n",
    "featurestore_runtime = boto_session.client(service_name='sagemaker-featurestore-runtime', region_name=region)"
   ]
  },
  {
   "cell_type": "markdown",
   "metadata": {},
   "source": [
    "https://sagemaker.readthedocs.io/en/stable/amazon_sagemaker_featurestore.html <br>\n",
    "API Documentation: https://sagemaker.readthedocs.io/en/stable/api/prep_data/feature_store.html"
   ]
  },
  {
   "cell_type": "code",
   "execution_count": 6,
   "metadata": {},
   "outputs": [],
   "source": [
    "feature_store_session = Session(\n",
    "    boto_session=boto_session,\n",
    "    sagemaker_client=sagemaker_client,\n",
    "    sagemaker_featurestore_runtime_client=featurestore_runtime\n",
    ")"
   ]
  },
  {
   "cell_type": "code",
   "execution_count": 7,
   "metadata": {},
   "outputs": [
    {
     "data": {
      "text/plain": [
       "{'_default_bucket': None,\n",
       " '_default_bucket_name_override': None,\n",
       " 's3_resource': None,\n",
       " 's3_client': None,\n",
       " 'config': None,\n",
       " 'boto_session': Session(region_name='us-east-1'),\n",
       " '_region_name': 'us-east-1',\n",
       " 'sagemaker_client': <botocore.client.SageMaker at 0x7fe2a779ee48>,\n",
       " 'sagemaker_runtime_client': <botocore.client.SageMakerRuntime at 0x7fe2a774ffd0>,\n",
       " 'sagemaker_featurestore_runtime_client': <botocore.client.SageMakerFeatureStoreRuntime at 0x7fe2a774f198>,\n",
       " 'local_mode': False}"
      ]
     },
     "execution_count": 7,
     "metadata": {},
     "output_type": "execute_result"
    }
   ],
   "source": [
    "feature_store_session.__dict__"
   ]
  },
  {
   "cell_type": "markdown",
   "metadata": {},
   "source": [
    "`offline_feature_store_s3_uri` URI below is the location of your offline store"
   ]
  },
  {
   "cell_type": "code",
   "execution_count": 8,
   "metadata": {},
   "outputs": [
    {
     "data": {
      "text/plain": [
       "'s3://sagemaker-feature-store-account-a/'"
      ]
     },
     "execution_count": 8,
     "metadata": {},
     "output_type": "execute_result"
    }
   ],
   "source": [
    "bucket = 'sagemaker-feature-store-account-a'\n",
    "offline_feature_store_s3_uri = f's3://{bucket}/'\n",
    "offline_feature_store_s3_uri"
   ]
  },
  {
   "cell_type": "markdown",
   "metadata": {},
   "source": [
    "#### Load Features "
   ]
  },
  {
   "cell_type": "code",
   "execution_count": 9,
   "metadata": {},
   "outputs": [],
   "source": [
    "features = pd.read_csv('features.csv', names=['employee_id', 'name', 'age', 'sex', 'happiness_score'])\n",
    "features['created_by'] = 'account-c'"
   ]
  },
  {
   "cell_type": "code",
   "execution_count": 10,
   "metadata": {},
   "outputs": [
    {
     "data": {
      "text/plain": [
       "employee_id          int64\n",
       "name                object\n",
       "age                  int64\n",
       "sex                 object\n",
       "happiness_score    float64\n",
       "created_by          object\n",
       "dtype: object"
      ]
     },
     "execution_count": 10,
     "metadata": {},
     "output_type": "execute_result"
    }
   ],
   "source": [
    "features.dtypes"
   ]
  },
  {
   "cell_type": "markdown",
   "metadata": {},
   "source": [
    "### Ingest Features into SageMaker Feature Store"
   ]
  },
  {
   "cell_type": "code",
   "execution_count": 11,
   "metadata": {},
   "outputs": [],
   "source": [
    "record_identifier_feature_name = 'employee_id'\n",
    "event_time_feature_name = 'event_time'"
   ]
  },
  {
   "cell_type": "markdown",
   "metadata": {},
   "source": [
    "#### Create Feature Group"
   ]
  },
  {
   "cell_type": "code",
   "execution_count": 12,
   "metadata": {},
   "outputs": [
    {
     "data": {
      "text/plain": [
       "{'name': 'employees',\n",
       " 'sagemaker_session': <sagemaker.session.Session at 0x7fe2d9cfd780>,\n",
       " 'feature_definitions': []}"
      ]
     },
     "execution_count": 12,
     "metadata": {},
     "output_type": "execute_result"
    }
   ],
   "source": [
    "feature_group_name = 'employees'\n",
    "feature_group = FeatureGroup(name=feature_group_name, sagemaker_session=feature_store_session)\n",
    "feature_group.__dict__"
   ]
  },
  {
   "cell_type": "markdown",
   "metadata": {},
   "source": [
    "Feature Store supported types are `String`, `Fractional`, and `Integral`. The default type is set to `String`. This means that, if a column in your dataset is not a `float` or `long` type, it will default to `String` in your feature store."
   ]
  },
  {
   "cell_type": "code",
   "execution_count": 13,
   "metadata": {},
   "outputs": [],
   "source": [
    "def cast_object_to_string(df):\n",
    "    \"\"\"\n",
    "    Cast object dtype to string. The SageMaker FeatureStore Python SDK will then \n",
    "    map the string dtype to String feature type.\n",
    "    \"\"\"\n",
    "    for label in df.columns:\n",
    "        if df.dtypes[label] == 'object':\n",
    "            df[label] = df[label].astype('string')"
   ]
  },
  {
   "cell_type": "code",
   "execution_count": 14,
   "metadata": {},
   "outputs": [],
   "source": [
    "cast_object_to_string(features)"
   ]
  },
  {
   "cell_type": "markdown",
   "metadata": {},
   "source": [
    "#### Append event_time to the `features` dataframe "
   ]
  },
  {
   "cell_type": "code",
   "execution_count": 15,
   "metadata": {},
   "outputs": [],
   "source": [
    "current_time_sec = int(round(time.time()))\n",
    "features[event_time_feature_name] = pd.Series([current_time_sec]*len(features), dtype='float64')"
   ]
  },
  {
   "cell_type": "code",
   "execution_count": 16,
   "metadata": {},
   "outputs": [
    {
     "data": {
      "text/plain": [
       "employee_id          int64\n",
       "name                string\n",
       "age                  int64\n",
       "sex                 string\n",
       "happiness_score    float64\n",
       "created_by          string\n",
       "event_time         float64\n",
       "dtype: object"
      ]
     },
     "execution_count": 16,
     "metadata": {},
     "output_type": "execute_result"
    }
   ],
   "source": [
    "features.dtypes"
   ]
  },
  {
   "cell_type": "code",
   "execution_count": 17,
   "metadata": {},
   "outputs": [
    {
     "data": {
      "text/html": [
       "<div>\n",
       "<style scoped>\n",
       "    .dataframe tbody tr th:only-of-type {\n",
       "        vertical-align: middle;\n",
       "    }\n",
       "\n",
       "    .dataframe tbody tr th {\n",
       "        vertical-align: top;\n",
       "    }\n",
       "\n",
       "    .dataframe thead th {\n",
       "        text-align: right;\n",
       "    }\n",
       "</style>\n",
       "<table border=\"1\" class=\"dataframe\">\n",
       "  <thead>\n",
       "    <tr style=\"text-align: right;\">\n",
       "      <th></th>\n",
       "      <th>employee_id</th>\n",
       "      <th>name</th>\n",
       "      <th>age</th>\n",
       "      <th>sex</th>\n",
       "      <th>happiness_score</th>\n",
       "      <th>created_by</th>\n",
       "      <th>event_time</th>\n",
       "    </tr>\n",
       "  </thead>\n",
       "  <tbody>\n",
       "    <tr>\n",
       "      <th>0</th>\n",
       "      <td>100</td>\n",
       "      <td>alex</td>\n",
       "      <td>23</td>\n",
       "      <td>M</td>\n",
       "      <td>1.4</td>\n",
       "      <td>account-c</td>\n",
       "      <td>1.608960e+09</td>\n",
       "    </tr>\n",
       "    <tr>\n",
       "      <th>1</th>\n",
       "      <td>101</td>\n",
       "      <td>bria</td>\n",
       "      <td>29</td>\n",
       "      <td>F</td>\n",
       "      <td>4.5</td>\n",
       "      <td>account-c</td>\n",
       "      <td>1.608960e+09</td>\n",
       "    </tr>\n",
       "    <tr>\n",
       "      <th>2</th>\n",
       "      <td>102</td>\n",
       "      <td>cara</td>\n",
       "      <td>43</td>\n",
       "      <td>F</td>\n",
       "      <td>4.3</td>\n",
       "      <td>account-c</td>\n",
       "      <td>1.608960e+09</td>\n",
       "    </tr>\n",
       "    <tr>\n",
       "      <th>3</th>\n",
       "      <td>103</td>\n",
       "      <td>dave</td>\n",
       "      <td>54</td>\n",
       "      <td>M</td>\n",
       "      <td>3.5</td>\n",
       "      <td>account-c</td>\n",
       "      <td>1.608960e+09</td>\n",
       "    </tr>\n",
       "    <tr>\n",
       "      <th>4</th>\n",
       "      <td>104</td>\n",
       "      <td>elan</td>\n",
       "      <td>61</td>\n",
       "      <td>F</td>\n",
       "      <td>4.3</td>\n",
       "      <td>account-c</td>\n",
       "      <td>1.608960e+09</td>\n",
       "    </tr>\n",
       "  </tbody>\n",
       "</table>\n",
       "</div>"
      ],
      "text/plain": [
       "   employee_id  name  age sex  happiness_score created_by    event_time\n",
       "0          100  alex   23   M              1.4  account-c  1.608960e+09\n",
       "1          101  bria   29   F              4.5  account-c  1.608960e+09\n",
       "2          102  cara   43   F              4.3  account-c  1.608960e+09\n",
       "3          103  dave   54   M              3.5  account-c  1.608960e+09\n",
       "4          104  elan   61   F              4.3  account-c  1.608960e+09"
      ]
     },
     "execution_count": 17,
     "metadata": {},
     "output_type": "execute_result"
    }
   ],
   "source": [
    "features"
   ]
  },
  {
   "cell_type": "markdown",
   "metadata": {},
   "source": [
    "#### Load Feature Definitions\n",
    "SageMaker FeatureStore Python SDK will auto-detect the data schema based on input data"
   ]
  },
  {
   "cell_type": "code",
   "execution_count": 18,
   "metadata": {},
   "outputs": [
    {
     "data": {
      "text/plain": [
       "[FeatureDefinition(feature_name='employee_id', feature_type=<FeatureTypeEnum.INTEGRAL: 'Integral'>),\n",
       " FeatureDefinition(feature_name='name', feature_type=<FeatureTypeEnum.STRING: 'String'>),\n",
       " FeatureDefinition(feature_name='age', feature_type=<FeatureTypeEnum.INTEGRAL: 'Integral'>),\n",
       " FeatureDefinition(feature_name='sex', feature_type=<FeatureTypeEnum.STRING: 'String'>),\n",
       " FeatureDefinition(feature_name='happiness_score', feature_type=<FeatureTypeEnum.FRACTIONAL: 'Fractional'>),\n",
       " FeatureDefinition(feature_name='created_by', feature_type=<FeatureTypeEnum.STRING: 'String'>),\n",
       " FeatureDefinition(feature_name='event_time', feature_type=<FeatureTypeEnum.FRACTIONAL: 'Fractional'>)]"
      ]
     },
     "execution_count": 18,
     "metadata": {},
     "output_type": "execute_result"
    }
   ],
   "source": [
    "feature_group.load_feature_definitions(data_frame=features)"
   ]
  },
  {
   "cell_type": "markdown",
   "metadata": {},
   "source": [
    "#### Create Feature Group"
   ]
  },
  {
   "cell_type": "code",
   "execution_count": 20,
   "metadata": {},
   "outputs": [],
   "source": [
    "#sagemaker_client.delete_feature_group(FeatureGroupName='employees')"
   ]
  },
  {
   "cell_type": "code",
   "execution_count": 21,
   "metadata": {},
   "outputs": [
    {
     "data": {
      "text/plain": [
       "{'FeatureGroupArn': 'arn:aws:sagemaker:us-east-1:105242341581:feature-group/employees',\n",
       " 'ResponseMetadata': {'RequestId': 'f98316b5-f59b-493e-a71c-b91e5078a056',\n",
       "  'HTTPStatusCode': 200,\n",
       "  'HTTPHeaders': {'x-amzn-requestid': 'f98316b5-f59b-493e-a71c-b91e5078a056',\n",
       "   'content-type': 'application/x-amz-json-1.1',\n",
       "   'content-length': '86',\n",
       "   'date': 'Sat, 26 Dec 2020 05:27:36 GMT'},\n",
       "  'RetryAttempts': 0}}"
      ]
     },
     "execution_count": 21,
     "metadata": {},
     "output_type": "execute_result"
    }
   ],
   "source": [
    "feature_group.create(\n",
    "    s3_uri=offline_feature_store_s3_uri,\n",
    "    record_identifier_name=record_identifier_feature_name,\n",
    "    event_time_feature_name=event_time_feature_name,\n",
    "    role_arn=role,\n",
    "    enable_online_store=True\n",
    ")"
   ]
  },
  {
   "cell_type": "code",
   "execution_count": 22,
   "metadata": {},
   "outputs": [
    {
     "data": {
      "text/plain": [
       "{'name': 'employees',\n",
       " 'sagemaker_session': <sagemaker.session.Session at 0x7fe2d9cfd780>,\n",
       " 'feature_definitions': [FeatureDefinition(feature_name='employee_id', feature_type=<FeatureTypeEnum.INTEGRAL: 'Integral'>),\n",
       "  FeatureDefinition(feature_name='name', feature_type=<FeatureTypeEnum.STRING: 'String'>),\n",
       "  FeatureDefinition(feature_name='age', feature_type=<FeatureTypeEnum.INTEGRAL: 'Integral'>),\n",
       "  FeatureDefinition(feature_name='sex', feature_type=<FeatureTypeEnum.STRING: 'String'>),\n",
       "  FeatureDefinition(feature_name='happiness_score', feature_type=<FeatureTypeEnum.FRACTIONAL: 'Fractional'>),\n",
       "  FeatureDefinition(feature_name='created_by', feature_type=<FeatureTypeEnum.STRING: 'String'>),\n",
       "  FeatureDefinition(feature_name='event_time', feature_type=<FeatureTypeEnum.FRACTIONAL: 'Fractional'>)]}"
      ]
     },
     "execution_count": 22,
     "metadata": {},
     "output_type": "execute_result"
    }
   ],
   "source": [
    "feature_group.__dict__"
   ]
  },
  {
   "cell_type": "markdown",
   "metadata": {},
   "source": [
    "#### Validate if feature group is created"
   ]
  },
  {
   "cell_type": "code",
   "execution_count": 23,
   "metadata": {},
   "outputs": [
    {
     "data": {
      "text/plain": [
       "{'FeatureGroupArn': 'arn:aws:sagemaker:us-east-1:105242341581:feature-group/employees',\n",
       " 'FeatureGroupName': 'employees',\n",
       " 'RecordIdentifierFeatureName': 'employee_id',\n",
       " 'EventTimeFeatureName': 'event_time',\n",
       " 'FeatureDefinitions': [{'FeatureName': 'employee_id',\n",
       "   'FeatureType': 'Integral'},\n",
       "  {'FeatureName': 'name', 'FeatureType': 'String'},\n",
       "  {'FeatureName': 'age', 'FeatureType': 'Integral'},\n",
       "  {'FeatureName': 'sex', 'FeatureType': 'String'},\n",
       "  {'FeatureName': 'happiness_score', 'FeatureType': 'Fractional'},\n",
       "  {'FeatureName': 'created_by', 'FeatureType': 'String'},\n",
       "  {'FeatureName': 'event_time', 'FeatureType': 'Fractional'}],\n",
       " 'CreationTime': datetime.datetime(2020, 12, 26, 5, 27, 36, 37000, tzinfo=tzlocal()),\n",
       " 'OnlineStoreConfig': {'EnableOnlineStore': True},\n",
       " 'OfflineStoreConfig': {'S3StorageConfig': {'S3Uri': 's3://sagemaker-feature-store-account-a/'},\n",
       "  'DisableGlueTableCreation': False},\n",
       " 'RoleArn': 'arn:aws:iam::105242341581:role/service-role/AmazonSageMaker-ExecutionRole-20201222T190928',\n",
       " 'FeatureGroupStatus': 'Creating',\n",
       " 'ResponseMetadata': {'RequestId': '107d055d-2c03-408b-9192-8a1766d696e3',\n",
       "  'HTTPStatusCode': 200,\n",
       "  'HTTPHeaders': {'x-amzn-requestid': '107d055d-2c03-408b-9192-8a1766d696e3',\n",
       "   'content-type': 'application/x-amz-json-1.1',\n",
       "   'content-length': '921',\n",
       "   'date': 'Sat, 26 Dec 2020 05:27:40 GMT'},\n",
       "  'RetryAttempts': 0}}"
      ]
     },
     "execution_count": 23,
     "metadata": {},
     "output_type": "execute_result"
    }
   ],
   "source": [
    "feature_group.describe()"
   ]
  },
  {
   "cell_type": "code",
   "execution_count": 25,
   "metadata": {},
   "outputs": [
    {
     "data": {
      "text/plain": [
       "{'FeatureGroupSummaries': [{'FeatureGroupName': 'employees',\n",
       "   'FeatureGroupArn': 'arn:aws:sagemaker:us-east-1:105242341581:feature-group/employees',\n",
       "   'CreationTime': datetime.datetime(2020, 12, 26, 5, 27, 36, 37000, tzinfo=tzlocal()),\n",
       "   'FeatureGroupStatus': 'Created'}],\n",
       " 'ResponseMetadata': {'RequestId': '91dccc5a-2a74-4e56-b50b-6ff24519c653',\n",
       "  'HTTPStatusCode': 200,\n",
       "  'HTTPHeaders': {'x-amzn-requestid': '91dccc5a-2a74-4e56-b50b-6ff24519c653',\n",
       "   'content-type': 'application/x-amz-json-1.1',\n",
       "   'content-length': '208',\n",
       "   'date': 'Sat, 26 Dec 2020 05:27:44 GMT'},\n",
       "  'RetryAttempts': 0}}"
      ]
     },
     "execution_count": 25,
     "metadata": {},
     "output_type": "execute_result"
    }
   ],
   "source": [
    "sagemaker_client.list_feature_groups()"
   ]
  },
  {
   "cell_type": "markdown",
   "metadata": {},
   "source": [
    "#### Put Records into Feature Group (Both Online & Offline)"
   ]
  },
  {
   "cell_type": "markdown",
   "metadata": {},
   "source": [
    "After the FeatureGroups have been created, we can put data into the FeatureGroups by using the PutRecord API. This API can handle high TPS and is designed to be called by different streams. The data from all of these Put requests is buffered and written to S3 in chunks. The files will be written to the offline store within a few minutes of ingestion. For this example, to accelerate the ingestion process, we are specifying multiple workers to do the job simultaneously. "
   ]
  },
  {
   "cell_type": "code",
   "execution_count": 26,
   "metadata": {},
   "outputs": [
    {
     "name": "stderr",
     "output_type": "stream",
     "text": [
      "Started ingesting index 0 to 1\n",
      "Started ingesting index 1 to 2\n",
      "Started ingesting index 2 to 3\n",
      "Started ingesting index 3 to 4\n",
      "Started ingesting index 4 to 5\n",
      "Successfully ingested row 2 to 3\n",
      "Successfully ingested row 0 to 1\n",
      "Successfully ingested row 1 to 2\n",
      "Successfully ingested row 4 to 5\n",
      "Successfully ingested row 3 to 4\n"
     ]
    },
    {
     "name": "stdout",
     "output_type": "stream",
     "text": [
      "CPU times: user 71.6 ms, sys: 26.4 ms, total: 98 ms\n",
      "Wall time: 452 ms\n"
     ]
    },
    {
     "data": {
      "text/plain": [
       "IngestionManagerPandas(feature_group_name='employees', sagemaker_session=<sagemaker.session.Session object at 0x7fe2d9cfd780>, data_frame=   employee_id  name  age sex  happiness_score created_by    event_time\n",
       "0          100  alex   23   M              1.4  account-c  1.608960e+09\n",
       "1          101  bria   29   F              4.5  account-c  1.608960e+09\n",
       "2          102  cara   43   F              4.3  account-c  1.608960e+09\n",
       "3          103  dave   54   M              3.5  account-c  1.608960e+09\n",
       "4          104  elan   61   F              4.3  account-c  1.608960e+09, max_workers=5, _futures={<Future at 0x7fe2a7691940 state=finished returned NoneType>: (0, 1), <Future at 0x7fe2a7691d68 state=finished returned NoneType>: (1, 2), <Future at 0x7fe2a7691fd0 state=finished returned NoneType>: (2, 3), <Future at 0x7fe2a769f2b0 state=finished returned NoneType>: (3, 4), <Future at 0x7fe2a769fcc0 state=finished returned NoneType>: (4, 5)})"
      ]
     },
     "execution_count": 26,
     "metadata": {},
     "output_type": "execute_result"
    }
   ],
   "source": [
    "%%time\n",
    "\n",
    "feature_group.ingest(data_frame=features, max_workers=5, wait=True)"
   ]
  },
  {
   "cell_type": "markdown",
   "metadata": {},
   "source": [
    "#### Get Record from Online Store (Available Immediately)"
   ]
  },
  {
   "cell_type": "markdown",
   "metadata": {},
   "source": [
    "To confirm that data has been ingested, we can quickly retrieve a record from the online store:"
   ]
  },
  {
   "cell_type": "code",
   "execution_count": 27,
   "metadata": {},
   "outputs": [
    {
     "data": {
      "text/plain": [
       "{'ResponseMetadata': {'RequestId': '32c740c9-f96f-4559-85f3-b21e4fcf92db',\n",
       "  'HTTPStatusCode': 200,\n",
       "  'HTTPHeaders': {'x-amzn-requestid': '32c740c9-f96f-4559-85f3-b21e4fcf92db',\n",
       "   'content-type': 'application/json',\n",
       "   'content-length': '368',\n",
       "   'date': 'Sat, 26 Dec 2020 05:27:57 GMT'},\n",
       "  'RetryAttempts': 0},\n",
       " 'Record': [{'FeatureName': 'employee_id', 'ValueAsString': '101'},\n",
       "  {'FeatureName': 'name', 'ValueAsString': 'bria'},\n",
       "  {'FeatureName': 'age', 'ValueAsString': '29'},\n",
       "  {'FeatureName': 'sex', 'ValueAsString': 'F'},\n",
       "  {'FeatureName': 'happiness_score', 'ValueAsString': '4.5'},\n",
       "  {'FeatureName': 'created_by', 'ValueAsString': 'account-c'},\n",
       "  {'FeatureName': 'event_time', 'ValueAsString': '1608960422.0'}]}"
      ]
     },
     "execution_count": 27,
     "metadata": {},
     "output_type": "execute_result"
    }
   ],
   "source": [
    "record_identifier = str(101)\n",
    "\n",
    "featurestore_runtime.get_record(FeatureGroupName='employees', \n",
    "                                RecordIdentifierValueAsString=record_identifier)"
   ]
  },
  {
   "cell_type": "markdown",
   "metadata": {},
   "source": [
    "#### Get Record from Offline Store\n",
    "Now let's wait for the data to appear in our offline store before moving forward to creating a dataset. This will take approximately 5 minutes."
   ]
  },
  {
   "cell_type": "code",
   "execution_count": 28,
   "metadata": {},
   "outputs": [],
   "source": [
    "account_id = boto3.client('sts').get_caller_identity()['Account']"
   ]
  },
  {
   "cell_type": "code",
   "execution_count": 29,
   "metadata": {},
   "outputs": [
    {
     "data": {
      "text/plain": [
       "'105242341581/sagemaker/us-east-1/offline-store/employees/data'"
      ]
     },
     "execution_count": 29,
     "metadata": {},
     "output_type": "execute_result"
    }
   ],
   "source": [
    "feature_group_s3_prefix = f'{account_id}/sagemaker/{region}/offline-store/{feature_group_name}/data'\n",
    "feature_group_s3_prefix"
   ]
  },
  {
   "cell_type": "code",
   "execution_count": 30,
   "metadata": {},
   "outputs": [
    {
     "name": "stderr",
     "output_type": "stream",
     "text": [
      "[Waiting for data in Offline Store ...]\n",
      "[Waiting for data in Offline Store ...]\n",
      "[Waiting for data in Offline Store ...]\n",
      "[Waiting for data in Offline Store ...]\n",
      "[Waiting for data in Offline Store ...]\n",
      "[Waiting for data in Offline Store ...]\n",
      "[Features are available in Offline Store!]\n"
     ]
    }
   ],
   "source": [
    "offline_store_contents = None\n",
    "while offline_store_contents is None:\n",
    "    objects = s3_client.list_objects(Bucket=bucket, Prefix=feature_group_s3_prefix)\n",
    "    if 'Contents' in objects and len(objects['Contents']) > 1:\n",
    "        logger.info('[Features are available in Offline Store!]')\n",
    "        offline_store_contents = objects['Contents']\n",
    "    else:\n",
    "        logger.info('[Waiting for data in Offline Store ...]')\n",
    "        time.sleep(60)"
   ]
  },
  {
   "cell_type": "code",
   "execution_count": 31,
   "metadata": {},
   "outputs": [
    {
     "data": {
      "text/plain": [
       "[{'Key': '105242341581/sagemaker/us-east-1/offline-store/employees/data/year=2020/month=12/day=26/hour=05/20201226T052702Z_dQfG217E6W3YzrQG.parquet',\n",
       "  'LastModified': datetime.datetime(2020, 12, 26, 5, 33, 33, tzinfo=tzlocal()),\n",
       "  'ETag': '\"75c4d3de3621079b26aebe74aa98d3a7\"',\n",
       "  'Size': 2145,\n",
       "  'StorageClass': 'STANDARD',\n",
       "  'Owner': {'DisplayName': 'yavapai_testbed',\n",
       "   'ID': '768394a884ee2c604687e993ff8f4f5e6320bac8de2bba100ae7686a611b9260'}},\n",
       " {'Key': '105242341581/sagemaker/us-east-1/offline-store/employees/data/year=2020/month=12/day=26/hour=05/20201226T052702Z_eBeXvcYNpyKLQ8VO.parquet',\n",
       "  'LastModified': datetime.datetime(2020, 12, 26, 5, 33, 33, tzinfo=tzlocal()),\n",
       "  'ETag': '\"253e594a7f8a10a5cd002cb92dc1f135\"',\n",
       "  'Size': 2075,\n",
       "  'StorageClass': 'STANDARD',\n",
       "  'Owner': {'DisplayName': 'yavapai_testbed',\n",
       "   'ID': '768394a884ee2c604687e993ff8f4f5e6320bac8de2bba100ae7686a611b9260'}}]"
      ]
     },
     "execution_count": 31,
     "metadata": {},
     "output_type": "execute_result"
    }
   ],
   "source": [
    "offline_store_contents"
   ]
  },
  {
   "cell_type": "markdown",
   "metadata": {},
   "source": [
    "#### Inspect the Parquet Files (Offline Store)"
   ]
  },
  {
   "cell_type": "code",
   "execution_count": 32,
   "metadata": {},
   "outputs": [
    {
     "data": {
      "text/plain": [
       "'s3://sagemaker-feature-store-account-a/105242341581/sagemaker/us-east-1/offline-store/employees/data'"
      ]
     },
     "execution_count": 32,
     "metadata": {},
     "output_type": "execute_result"
    }
   ],
   "source": [
    "s3_prefix = '/'.join(offline_store_contents[0]['Key'].split('/')[:-5])\n",
    "s3_uri = f's3://{bucket}/{s3_prefix}'\n",
    "s3_uri"
   ]
  },
  {
   "cell_type": "code",
   "execution_count": 33,
   "metadata": {},
   "outputs": [],
   "source": [
    "df = wr.s3.read_parquet(path=s3_uri)"
   ]
  },
  {
   "cell_type": "code",
   "execution_count": 34,
   "metadata": {},
   "outputs": [
    {
     "data": {
      "text/html": [
       "<div>\n",
       "<style scoped>\n",
       "    .dataframe tbody tr th:only-of-type {\n",
       "        vertical-align: middle;\n",
       "    }\n",
       "\n",
       "    .dataframe tbody tr th {\n",
       "        vertical-align: top;\n",
       "    }\n",
       "\n",
       "    .dataframe thead th {\n",
       "        text-align: right;\n",
       "    }\n",
       "</style>\n",
       "<table border=\"1\" class=\"dataframe\">\n",
       "  <thead>\n",
       "    <tr style=\"text-align: right;\">\n",
       "      <th></th>\n",
       "      <th>employee_id</th>\n",
       "      <th>name</th>\n",
       "      <th>age</th>\n",
       "      <th>sex</th>\n",
       "      <th>happiness_score</th>\n",
       "      <th>created_by</th>\n",
       "      <th>event_time</th>\n",
       "      <th>write_time</th>\n",
       "      <th>api_invocation_time</th>\n",
       "      <th>is_deleted</th>\n",
       "    </tr>\n",
       "  </thead>\n",
       "  <tbody>\n",
       "    <tr>\n",
       "      <th>0</th>\n",
       "      <td>102</td>\n",
       "      <td>cara</td>\n",
       "      <td>43</td>\n",
       "      <td>F</td>\n",
       "      <td>4.3</td>\n",
       "      <td>account-c</td>\n",
       "      <td>1.608960e+09</td>\n",
       "      <td>2020-12-26 05:33:32.659000+00:00</td>\n",
       "      <td>2020-12-26 05:27:52+00:00</td>\n",
       "      <td>False</td>\n",
       "    </tr>\n",
       "    <tr>\n",
       "      <th>1</th>\n",
       "      <td>104</td>\n",
       "      <td>elan</td>\n",
       "      <td>61</td>\n",
       "      <td>F</td>\n",
       "      <td>4.3</td>\n",
       "      <td>account-c</td>\n",
       "      <td>1.608960e+09</td>\n",
       "      <td>2020-12-26 05:33:32.659000+00:00</td>\n",
       "      <td>2020-12-26 05:27:52+00:00</td>\n",
       "      <td>False</td>\n",
       "    </tr>\n",
       "    <tr>\n",
       "      <th>2</th>\n",
       "      <td>103</td>\n",
       "      <td>dave</td>\n",
       "      <td>54</td>\n",
       "      <td>M</td>\n",
       "      <td>3.5</td>\n",
       "      <td>account-c</td>\n",
       "      <td>1.608960e+09</td>\n",
       "      <td>2020-12-26 05:33:32.659000+00:00</td>\n",
       "      <td>2020-12-26 05:27:52+00:00</td>\n",
       "      <td>False</td>\n",
       "    </tr>\n",
       "    <tr>\n",
       "      <th>0</th>\n",
       "      <td>100</td>\n",
       "      <td>alex</td>\n",
       "      <td>23</td>\n",
       "      <td>M</td>\n",
       "      <td>1.4</td>\n",
       "      <td>account-c</td>\n",
       "      <td>1.608960e+09</td>\n",
       "      <td>2020-12-26 05:33:32.703000+00:00</td>\n",
       "      <td>2020-12-26 05:27:52+00:00</td>\n",
       "      <td>False</td>\n",
       "    </tr>\n",
       "    <tr>\n",
       "      <th>1</th>\n",
       "      <td>101</td>\n",
       "      <td>bria</td>\n",
       "      <td>29</td>\n",
       "      <td>F</td>\n",
       "      <td>4.5</td>\n",
       "      <td>account-c</td>\n",
       "      <td>1.608960e+09</td>\n",
       "      <td>2020-12-26 05:33:32.703000+00:00</td>\n",
       "      <td>2020-12-26 05:27:52+00:00</td>\n",
       "      <td>False</td>\n",
       "    </tr>\n",
       "  </tbody>\n",
       "</table>\n",
       "</div>"
      ],
      "text/plain": [
       "   employee_id  name  age sex  happiness_score created_by    event_time  \\\n",
       "0          102  cara   43   F              4.3  account-c  1.608960e+09   \n",
       "1          104  elan   61   F              4.3  account-c  1.608960e+09   \n",
       "2          103  dave   54   M              3.5  account-c  1.608960e+09   \n",
       "0          100  alex   23   M              1.4  account-c  1.608960e+09   \n",
       "1          101  bria   29   F              4.5  account-c  1.608960e+09   \n",
       "\n",
       "                        write_time       api_invocation_time  is_deleted  \n",
       "0 2020-12-26 05:33:32.659000+00:00 2020-12-26 05:27:52+00:00       False  \n",
       "1 2020-12-26 05:33:32.659000+00:00 2020-12-26 05:27:52+00:00       False  \n",
       "2 2020-12-26 05:33:32.659000+00:00 2020-12-26 05:27:52+00:00       False  \n",
       "0 2020-12-26 05:33:32.703000+00:00 2020-12-26 05:27:52+00:00       False  \n",
       "1 2020-12-26 05:33:32.703000+00:00 2020-12-26 05:27:52+00:00       False  "
      ]
     },
     "execution_count": 34,
     "metadata": {},
     "output_type": "execute_result"
    }
   ],
   "source": [
    "df"
   ]
  },
  {
   "cell_type": "markdown",
   "metadata": {},
   "source": [
    "### Give Access to Accounts A and B (Optional)\n",
    "<p> Self copying Account C's S3 objects and redefining ACLs for Account A & B </p>"
   ]
  },
  {
   "cell_type": "code",
   "execution_count": 35,
   "metadata": {},
   "outputs": [],
   "source": [
    "can_id_a = \"a52ce3999cdab5111cb19ca94abf5de5a69d62f34baa7d4422c630549fad3bd0\"\n",
    "can_id_b = \"149b24f8987e48d549b9c2b494029c94d6c1e8b7b91092cad62ca7cd89aea747\"\n",
    "can_id_c = \"768394a884ee2c604687e993ff8f4f5e6320bac8de2bba100ae7686a611b9260\""
   ]
  },
  {
   "cell_type": "code",
   "execution_count": 36,
   "metadata": {},
   "outputs": [
    {
     "name": "stdout",
     "output_type": "stream",
     "text": [
      "105242341581/sagemaker/us-east-1/offline-store/employees/data/year=2020/month=12/day=26/hour=05/20201226T052702Z_dQfG217E6W3YzrQG.parquet\n",
      "{\n",
      "    \"ServerSideEncryption\": \"aws:kms\",\n",
      "    \"SSEKMSKeyId\": \"arn:aws:kms:us-east-1:892313895307:key/d3763b61-8d94-43bd-a3d6-4b4516ad28e7\",\n",
      "    \"CopyObjectResult\": {\n",
      "        \"ETag\": \"\\\"45952a5f07959138c79dcc911f694926\\\"\",\n",
      "        \"LastModified\": \"2020-12-26T05:34:04.000Z\"\n",
      "    }\n",
      "}\n",
      "[Self-Copy Succeeded!]\n",
      "[Put Object ACL Succeeded!]\n",
      "105242341581/sagemaker/us-east-1/offline-store/employees/data/year=2020/month=12/day=26/hour=05/20201226T052702Z_eBeXvcYNpyKLQ8VO.parquet\n",
      "{\n",
      "    \"ServerSideEncryption\": \"aws:kms\",\n",
      "    \"SSEKMSKeyId\": \"arn:aws:kms:us-east-1:892313895307:key/d3763b61-8d94-43bd-a3d6-4b4516ad28e7\",\n",
      "    \"CopyObjectResult\": {\n",
      "        \"ETag\": \"\\\"841bf63b46363b154cca7562d8aa3b3c\\\"\",\n",
      "        \"LastModified\": \"2020-12-26T05:34:06.000Z\"\n",
      "    }\n",
      "}\n",
      "[Self-Copy Succeeded!]\n",
      "[Put Object ACL Succeeded!]\n"
     ]
    }
   ],
   "source": [
    "for content in offline_store_contents:\n",
    "    key = content['Key']\n",
    "    print(key)\n",
    "    #!aws s3api put-object-acl --bucket $bucket --key $key --grant-read-acp id=$can_id && echo \"success\"\n",
    "    !aws s3api copy-object --copy-source {bucket}/{key} --key {key} --bucket {bucket} --server-side-encryption aws:kms  --ssekms-key-id arn:aws:kms:us-east-1:892313895307:key/d3763b61-8d94-43bd-a3d6-4b4516ad28e7 && echo \"[Self-Copy Succeeded!]\"\n",
    "    !aws s3api put-object-acl --bucket $bucket --key $key --grant-full-control id=$can_id_a,id=$can_id_c,id=$can_id_b && echo \"[Put Object ACL Succeeded!]\"\n",
    "    "
   ]
  },
  {
   "cell_type": "code",
   "execution_count": null,
   "metadata": {},
   "outputs": [],
   "source": []
  },
  {
   "cell_type": "code",
   "execution_count": null,
   "metadata": {},
   "outputs": [],
   "source": []
  },
  {
   "cell_type": "code",
   "execution_count": null,
   "metadata": {},
   "outputs": [],
   "source": []
  },
  {
   "cell_type": "code",
   "execution_count": null,
   "metadata": {},
   "outputs": [],
   "source": []
  }
 ],
 "metadata": {
  "kernelspec": {
   "display_name": "conda_python3",
   "language": "python",
   "name": "conda_python3"
  },
  "language_info": {
   "codemirror_mode": {
    "name": "ipython",
    "version": 3
   },
   "file_extension": ".py",
   "mimetype": "text/x-python",
   "name": "python",
   "nbconvert_exporter": "python",
   "pygments_lexer": "ipython3",
   "version": "3.6.10"
  }
 },
 "nbformat": 4,
 "nbformat_minor": 4
}
