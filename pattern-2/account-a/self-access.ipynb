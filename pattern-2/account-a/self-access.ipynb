{
 "cells": [
  {
   "cell_type": "markdown",
   "metadata": {},
   "source": [
    "# Inside Account A\n",
    "### Read/Write to its own Online and Offline Store"
   ]
  },
  {
   "cell_type": "markdown",
   "metadata": {},
   "source": [
    "#### Prerequisites"
   ]
  },
  {
   "cell_type": "code",
   "execution_count": 1,
   "metadata": {},
   "outputs": [],
   "source": [
    "#!pip install awswrangler"
   ]
  },
  {
   "cell_type": "markdown",
   "metadata": {},
   "source": [
    "#### Imports "
   ]
  },
  {
   "cell_type": "code",
   "execution_count": 2,
   "metadata": {},
   "outputs": [],
   "source": [
    "from sagemaker.feature_store.feature_group import FeatureGroup\n",
    "from sagemaker import get_execution_role\n",
    "from sagemaker.session import Session\n",
    "import awswrangler as wr\n",
    "import pandas as pd\n",
    "import sagemaker\n",
    "import logging\n",
    "import boto3\n",
    "import time\n",
    "import s3fs"
   ]
  },
  {
   "cell_type": "markdown",
   "metadata": {},
   "source": [
    "#### Setup Logger"
   ]
  },
  {
   "cell_type": "code",
   "execution_count": 3,
   "metadata": {},
   "outputs": [],
   "source": [
    "logger = logging.getLogger('sagemaker')\n",
    "logger.setLevel(logging.INFO)\n",
    "logger.addHandler(logging.StreamHandler())"
   ]
  },
  {
   "cell_type": "code",
   "execution_count": 4,
   "metadata": {},
   "outputs": [
    {
     "name": "stderr",
     "output_type": "stream",
     "text": [
      "[Using SageMaker version: 2.16.4.dev0]\n"
     ]
    }
   ],
   "source": [
    "logger.info(f'[Using SageMaker version: {sagemaker.__version__}]')"
   ]
  },
  {
   "cell_type": "markdown",
   "metadata": {},
   "source": [
    "#### Essentials \n",
    "* Create SageMaker & Feature Store Runtime Clients\n",
    "* Create a Feature Store Session encapsulating the above clients\n",
    "* Ensure the Execution Role you use for this notebook has all the required policies attached to it as per the instructions. If not, please make sure to attach them to the role before proceeding."
   ]
  },
  {
   "cell_type": "code",
   "execution_count": 5,
   "metadata": {},
   "outputs": [],
   "source": [
    "region = boto3.Session().region_name\n",
    "boto_session = boto3.Session(region_name=region)\n",
    "s3 = boto_session.resource('s3', region_name=region)\n",
    "role = get_execution_role()\n",
    "\n",
    "s3_client = boto3.client('s3', region_name=region)\n",
    "sagemaker_client = boto_session.client(service_name='sagemaker', region_name=region)\n",
    "featurestore_runtime = boto_session.client(service_name='sagemaker-featurestore-runtime', region_name=region)"
   ]
  },
  {
   "cell_type": "markdown",
   "metadata": {},
   "source": [
    "https://sagemaker.readthedocs.io/en/stable/amazon_sagemaker_featurestore.html <br>\n",
    "API Documentation: https://sagemaker.readthedocs.io/en/stable/api/prep_data/feature_store.html"
   ]
  },
  {
   "cell_type": "code",
   "execution_count": 6,
   "metadata": {},
   "outputs": [],
   "source": [
    "feature_store_session = Session(\n",
    "    boto_session=boto_session,\n",
    "    sagemaker_client=sagemaker_client,\n",
    "    sagemaker_featurestore_runtime_client=featurestore_runtime\n",
    ")"
   ]
  },
  {
   "cell_type": "markdown",
   "metadata": {},
   "source": [
    "#### Pick a Bucket to be used as Offline Feature Store\n",
    "<b>IMPORTANT: </b>If the bucket name does not contain the word `sagemaker`, make sure to change the bucket name inside `AmazonSageMakerFeatureStoreAccess` policy to capture it."
   ]
  },
  {
   "cell_type": "code",
   "execution_count": 7,
   "metadata": {},
   "outputs": [
    {
     "name": "stderr",
     "output_type": "stream",
     "text": [
      "Bucket: sagemaker-feature-store-account-a already exists!\n"
     ]
    }
   ],
   "source": [
    "bucket = 'sagemaker-feature-store-account-a'\n",
    "if s3.Bucket(bucket).creation_date is None:\n",
    "    s3.create_bucket(Bucket=bucket)\n",
    "else:\n",
    "    logger.warn(f'Bucket: {bucket} already exists!')"
   ]
  },
  {
   "cell_type": "markdown",
   "metadata": {},
   "source": [
    "`offline_feature_store_s3_uri` URI below is the location of your offline store"
   ]
  },
  {
   "cell_type": "code",
   "execution_count": 8,
   "metadata": {},
   "outputs": [
    {
     "data": {
      "text/plain": [
       "'s3://sagemaker-feature-store-account-a/'"
      ]
     },
     "execution_count": 8,
     "metadata": {},
     "output_type": "execute_result"
    }
   ],
   "source": [
    "offline_feature_store_s3_uri = f's3://{bucket}/'\n",
    "offline_feature_store_s3_uri"
   ]
  },
  {
   "cell_type": "markdown",
   "metadata": {},
   "source": [
    "#### Load Features "
   ]
  },
  {
   "cell_type": "code",
   "execution_count": 9,
   "metadata": {},
   "outputs": [],
   "source": [
    "features = pd.read_csv('features.csv', names=['employee_id', 'name', 'age', 'sex', 'happiness_score'])\n",
    "features['created_by'] = 'account-a'"
   ]
  },
  {
   "cell_type": "code",
   "execution_count": 10,
   "metadata": {},
   "outputs": [
    {
     "data": {
      "text/plain": [
       "employee_id          int64\n",
       "name                object\n",
       "age                  int64\n",
       "sex                 object\n",
       "happiness_score    float64\n",
       "created_by          object\n",
       "dtype: object"
      ]
     },
     "execution_count": 10,
     "metadata": {},
     "output_type": "execute_result"
    }
   ],
   "source": [
    "features.dtypes"
   ]
  },
  {
   "cell_type": "markdown",
   "metadata": {},
   "source": [
    "### Ingest Features into SageMaker Feature Store"
   ]
  },
  {
   "cell_type": "code",
   "execution_count": 11,
   "metadata": {},
   "outputs": [],
   "source": [
    "record_identifier_feature_name = 'employee_id'\n",
    "event_time_feature_name = 'event_time'"
   ]
  },
  {
   "cell_type": "markdown",
   "metadata": {},
   "source": [
    "#### Create Feature Group"
   ]
  },
  {
   "cell_type": "code",
   "execution_count": 12,
   "metadata": {},
   "outputs": [],
   "source": [
    "feature_group_name = 'employees'\n",
    "feature_group = FeatureGroup(name=feature_group_name, sagemaker_session=feature_store_session)"
   ]
  },
  {
   "cell_type": "markdown",
   "metadata": {},
   "source": [
    "Feature Store supported types are `String`, `Fractional`, and `Integral`. The default type is set to `String`. This means that, if a column in your dataset is not a `float` or `long` type, it will default to `String` in your feature store."
   ]
  },
  {
   "cell_type": "code",
   "execution_count": 13,
   "metadata": {},
   "outputs": [],
   "source": [
    "def cast_object_to_string(df):\n",
    "    \"\"\"\n",
    "    Cast object dtype to string. The SageMaker FeatureStore Python SDK will then \n",
    "    map the string dtype to String feature type.\n",
    "    \"\"\"\n",
    "    for label in df.columns:\n",
    "        if df.dtypes[label] == 'object':\n",
    "            df[label] = df[label].astype('string')"
   ]
  },
  {
   "cell_type": "code",
   "execution_count": 14,
   "metadata": {},
   "outputs": [],
   "source": [
    "cast_object_to_string(features)"
   ]
  },
  {
   "cell_type": "markdown",
   "metadata": {},
   "source": [
    "#### Append event_time to the `features` dataframe "
   ]
  },
  {
   "cell_type": "code",
   "execution_count": 15,
   "metadata": {},
   "outputs": [],
   "source": [
    "current_time_sec = int(round(time.time()))\n",
    "features[event_time_feature_name] = pd.Series([current_time_sec]*len(features), dtype='float64')"
   ]
  },
  {
   "cell_type": "code",
   "execution_count": 16,
   "metadata": {},
   "outputs": [
    {
     "data": {
      "text/plain": [
       "employee_id          int64\n",
       "name                string\n",
       "age                  int64\n",
       "sex                 string\n",
       "happiness_score    float64\n",
       "created_by          string\n",
       "event_time         float64\n",
       "dtype: object"
      ]
     },
     "execution_count": 16,
     "metadata": {},
     "output_type": "execute_result"
    }
   ],
   "source": [
    "features.dtypes"
   ]
  },
  {
   "cell_type": "code",
   "execution_count": 17,
   "metadata": {},
   "outputs": [
    {
     "data": {
      "text/html": [
       "<div>\n",
       "<style scoped>\n",
       "    .dataframe tbody tr th:only-of-type {\n",
       "        vertical-align: middle;\n",
       "    }\n",
       "\n",
       "    .dataframe tbody tr th {\n",
       "        vertical-align: top;\n",
       "    }\n",
       "\n",
       "    .dataframe thead th {\n",
       "        text-align: right;\n",
       "    }\n",
       "</style>\n",
       "<table border=\"1\" class=\"dataframe\">\n",
       "  <thead>\n",
       "    <tr style=\"text-align: right;\">\n",
       "      <th></th>\n",
       "      <th>employee_id</th>\n",
       "      <th>name</th>\n",
       "      <th>age</th>\n",
       "      <th>sex</th>\n",
       "      <th>happiness_score</th>\n",
       "      <th>created_by</th>\n",
       "      <th>event_time</th>\n",
       "    </tr>\n",
       "  </thead>\n",
       "  <tbody>\n",
       "    <tr>\n",
       "      <th>0</th>\n",
       "      <td>100</td>\n",
       "      <td>aaron</td>\n",
       "      <td>33</td>\n",
       "      <td>M</td>\n",
       "      <td>4.2</td>\n",
       "      <td>account-a</td>\n",
       "      <td>1.609038e+09</td>\n",
       "    </tr>\n",
       "    <tr>\n",
       "      <th>1</th>\n",
       "      <td>101</td>\n",
       "      <td>brett</td>\n",
       "      <td>34</td>\n",
       "      <td>F</td>\n",
       "      <td>3.7</td>\n",
       "      <td>account-a</td>\n",
       "      <td>1.609038e+09</td>\n",
       "    </tr>\n",
       "    <tr>\n",
       "      <th>2</th>\n",
       "      <td>102</td>\n",
       "      <td>cathy</td>\n",
       "      <td>44</td>\n",
       "      <td>F</td>\n",
       "      <td>4.8</td>\n",
       "      <td>account-a</td>\n",
       "      <td>1.609038e+09</td>\n",
       "    </tr>\n",
       "    <tr>\n",
       "      <th>3</th>\n",
       "      <td>103</td>\n",
       "      <td>danny</td>\n",
       "      <td>44</td>\n",
       "      <td>M</td>\n",
       "      <td>2.1</td>\n",
       "      <td>account-a</td>\n",
       "      <td>1.609038e+09</td>\n",
       "    </tr>\n",
       "    <tr>\n",
       "      <th>4</th>\n",
       "      <td>104</td>\n",
       "      <td>emily</td>\n",
       "      <td>44</td>\n",
       "      <td>F</td>\n",
       "      <td>1.5</td>\n",
       "      <td>account-a</td>\n",
       "      <td>1.609038e+09</td>\n",
       "    </tr>\n",
       "  </tbody>\n",
       "</table>\n",
       "</div>"
      ],
      "text/plain": [
       "   employee_id   name  age sex  happiness_score created_by    event_time\n",
       "0          100  aaron   33   M              4.2  account-a  1.609038e+09\n",
       "1          101  brett   34   F              3.7  account-a  1.609038e+09\n",
       "2          102  cathy   44   F              4.8  account-a  1.609038e+09\n",
       "3          103  danny   44   M              2.1  account-a  1.609038e+09\n",
       "4          104  emily   44   F              1.5  account-a  1.609038e+09"
      ]
     },
     "execution_count": 17,
     "metadata": {},
     "output_type": "execute_result"
    }
   ],
   "source": [
    "features"
   ]
  },
  {
   "cell_type": "markdown",
   "metadata": {},
   "source": [
    "#### Load Feature Definitions\n",
    "SageMaker FeatureStore Python SDK will auto-detect the data schema based on input data"
   ]
  },
  {
   "cell_type": "code",
   "execution_count": 18,
   "metadata": {},
   "outputs": [
    {
     "data": {
      "text/plain": [
       "[FeatureDefinition(feature_name='employee_id', feature_type=<FeatureTypeEnum.INTEGRAL: 'Integral'>),\n",
       " FeatureDefinition(feature_name='name', feature_type=<FeatureTypeEnum.STRING: 'String'>),\n",
       " FeatureDefinition(feature_name='age', feature_type=<FeatureTypeEnum.INTEGRAL: 'Integral'>),\n",
       " FeatureDefinition(feature_name='sex', feature_type=<FeatureTypeEnum.STRING: 'String'>),\n",
       " FeatureDefinition(feature_name='happiness_score', feature_type=<FeatureTypeEnum.FRACTIONAL: 'Fractional'>),\n",
       " FeatureDefinition(feature_name='created_by', feature_type=<FeatureTypeEnum.STRING: 'String'>),\n",
       " FeatureDefinition(feature_name='event_time', feature_type=<FeatureTypeEnum.FRACTIONAL: 'Fractional'>)]"
      ]
     },
     "execution_count": 18,
     "metadata": {},
     "output_type": "execute_result"
    }
   ],
   "source": [
    "feature_group.load_feature_definitions(data_frame=features)"
   ]
  },
  {
   "cell_type": "markdown",
   "metadata": {},
   "source": [
    "#### KMS Custom Key ID"
   ]
  },
  {
   "cell_type": "markdown",
   "metadata": {},
   "source": [
    "Use the KMS Customer Managed Key (CMK) for encrypting the data inside the feature store."
   ]
  },
  {
   "cell_type": "code",
   "execution_count": 19,
   "metadata": {},
   "outputs": [],
   "source": [
    "kms_key = 'arn:aws:kms:us-east-1:892313895307:key/d3763b61-8d94-43bd-a3d6-4b4516ad28e7'"
   ]
  },
  {
   "cell_type": "markdown",
   "metadata": {},
   "source": [
    "#### Create Feature Group"
   ]
  },
  {
   "cell_type": "markdown",
   "metadata": {},
   "source": [
    "Delete feature group if it already exists by uncommenting the line below."
   ]
  },
  {
   "cell_type": "code",
   "execution_count": 21,
   "metadata": {},
   "outputs": [],
   "source": [
    "#sagemaker_client.delete_feature_group(FeatureGroupName='employees')"
   ]
  },
  {
   "cell_type": "markdown",
   "metadata": {},
   "source": [
    "Create the feature group named `employees`"
   ]
  },
  {
   "cell_type": "code",
   "execution_count": 22,
   "metadata": {},
   "outputs": [
    {
     "data": {
      "text/plain": [
       "{'FeatureGroupArn': 'arn:aws:sagemaker:us-east-1:892313895307:feature-group/employees',\n",
       " 'ResponseMetadata': {'RequestId': 'eccce06c-04c2-4b9e-861d-e789a415ada8',\n",
       "  'HTTPStatusCode': 200,\n",
       "  'HTTPHeaders': {'x-amzn-requestid': 'eccce06c-04c2-4b9e-861d-e789a415ada8',\n",
       "   'content-type': 'application/x-amz-json-1.1',\n",
       "   'content-length': '86',\n",
       "   'date': 'Sun, 27 Dec 2020 02:57:57 GMT'},\n",
       "  'RetryAttempts': 0}}"
      ]
     },
     "execution_count": 22,
     "metadata": {},
     "output_type": "execute_result"
    }
   ],
   "source": [
    "feature_group.create(\n",
    "    s3_uri=offline_feature_store_s3_uri,\n",
    "    record_identifier_name=record_identifier_feature_name,\n",
    "    event_time_feature_name=event_time_feature_name,\n",
    "    role_arn=role,\n",
    "    enable_online_store=True,\n",
    "    offline_store_kms_key_id=kms_key\n",
    ")"
   ]
  },
  {
   "cell_type": "markdown",
   "metadata": {},
   "source": [
    "<b>Note:</b> Ensure `FeatureGroupStatus` of the created feature group shows as `Created` before proceeding to the next steps."
   ]
  },
  {
   "cell_type": "markdown",
   "metadata": {},
   "source": [
    "#### Validate if feature group is created"
   ]
  },
  {
   "cell_type": "code",
   "execution_count": 23,
   "metadata": {},
   "outputs": [
    {
     "data": {
      "text/plain": [
       "{'FeatureGroupArn': 'arn:aws:sagemaker:us-east-1:892313895307:feature-group/employees',\n",
       " 'FeatureGroupName': 'employees',\n",
       " 'RecordIdentifierFeatureName': 'employee_id',\n",
       " 'EventTimeFeatureName': 'event_time',\n",
       " 'FeatureDefinitions': [{'FeatureName': 'employee_id',\n",
       "   'FeatureType': 'Integral'},\n",
       "  {'FeatureName': 'name', 'FeatureType': 'String'},\n",
       "  {'FeatureName': 'age', 'FeatureType': 'Integral'},\n",
       "  {'FeatureName': 'sex', 'FeatureType': 'String'},\n",
       "  {'FeatureName': 'happiness_score', 'FeatureType': 'Fractional'},\n",
       "  {'FeatureName': 'created_by', 'FeatureType': 'String'},\n",
       "  {'FeatureName': 'event_time', 'FeatureType': 'Fractional'}],\n",
       " 'CreationTime': datetime.datetime(2020, 12, 27, 2, 57, 57, 616000, tzinfo=tzlocal()),\n",
       " 'OnlineStoreConfig': {'EnableOnlineStore': True},\n",
       " 'OfflineStoreConfig': {'S3StorageConfig': {'S3Uri': 's3://sagemaker-feature-store-account-a/',\n",
       "   'KmsKeyId': 'arn:aws:kms:us-east-1:892313895307:key/d3763b61-8d94-43bd-a3d6-4b4516ad28e7'},\n",
       "  'DisableGlueTableCreation': False},\n",
       " 'RoleArn': 'arn:aws:iam::892313895307:role/service-role/AmazonSageMaker-ExecutionRole-20201217T201618',\n",
       " 'FeatureGroupStatus': 'Creating',\n",
       " 'ResponseMetadata': {'RequestId': '161f40ff-ca61-4948-83df-0869c256a832',\n",
       "  'HTTPStatusCode': 200,\n",
       "  'HTTPHeaders': {'x-amzn-requestid': '161f40ff-ca61-4948-83df-0869c256a832',\n",
       "   'content-type': 'application/x-amz-json-1.1',\n",
       "   'content-length': '1010',\n",
       "   'date': 'Sun, 27 Dec 2020 02:58:01 GMT'},\n",
       "  'RetryAttempts': 0}}"
      ]
     },
     "execution_count": 23,
     "metadata": {},
     "output_type": "execute_result"
    }
   ],
   "source": [
    "feature_group.describe()"
   ]
  },
  {
   "cell_type": "code",
   "execution_count": 25,
   "metadata": {},
   "outputs": [
    {
     "data": {
      "text/plain": [
       "{'FeatureGroupSummaries': [{'FeatureGroupName': 'employees',\n",
       "   'FeatureGroupArn': 'arn:aws:sagemaker:us-east-1:892313895307:feature-group/employees',\n",
       "   'CreationTime': datetime.datetime(2020, 12, 27, 2, 57, 57, 616000, tzinfo=tzlocal()),\n",
       "   'FeatureGroupStatus': 'Created'}],\n",
       " 'ResponseMetadata': {'RequestId': 'b7eb9d8d-76cc-4738-85e4-ae6329ff46c1',\n",
       "  'HTTPStatusCode': 200,\n",
       "  'HTTPHeaders': {'x-amzn-requestid': 'b7eb9d8d-76cc-4738-85e4-ae6329ff46c1',\n",
       "   'content-type': 'application/x-amz-json-1.1',\n",
       "   'content-length': '208',\n",
       "   'date': 'Sun, 27 Dec 2020 02:58:13 GMT'},\n",
       "  'RetryAttempts': 0}}"
      ]
     },
     "execution_count": 25,
     "metadata": {},
     "output_type": "execute_result"
    }
   ],
   "source": [
    "sagemaker_client.list_feature_groups()"
   ]
  },
  {
   "cell_type": "markdown",
   "metadata": {},
   "source": [
    "#### Put Records into Feature Group (Both Online & Offline)"
   ]
  },
  {
   "cell_type": "markdown",
   "metadata": {},
   "source": [
    "After the FeatureGroups have been created, we can put data into the FeatureGroups by using the PutRecord API. This API can handle high TPS and is designed to be called by different streams. The data from all of these Put requests is buffered and written to S3 in chunks. The files will be written to the offline store within a few minutes of ingestion. For this example, to accelerate the ingestion process, we are specifying multiple workers to do the job simultaneously. "
   ]
  },
  {
   "cell_type": "code",
   "execution_count": 26,
   "metadata": {},
   "outputs": [
    {
     "name": "stderr",
     "output_type": "stream",
     "text": [
      "Started ingesting index 0 to 1\n",
      "Started ingesting index 1 to 2\n",
      "Started ingesting index 2 to 3\n",
      "Started ingesting index 3 to 4\n",
      "Started ingesting index 4 to 5\n",
      "Successfully ingested row 0 to 1\n",
      "Successfully ingested row 4 to 5\n",
      "Successfully ingested row 2 to 3\n",
      "Successfully ingested row 1 to 2\n",
      "Successfully ingested row 3 to 4\n"
     ]
    },
    {
     "name": "stdout",
     "output_type": "stream",
     "text": [
      "CPU times: user 103 ms, sys: 11.4 ms, total: 114 ms\n",
      "Wall time: 1.08 s\n"
     ]
    },
    {
     "data": {
      "text/plain": [
       "IngestionManagerPandas(feature_group_name='employees', sagemaker_session=<sagemaker.session.Session object at 0x7fe9beea80f0>, data_frame=   employee_id   name  age sex  happiness_score created_by    event_time\n",
       "0          100  aaron   33   M              4.2  account-a  1.609038e+09\n",
       "1          101  brett   34   F              3.7  account-a  1.609038e+09\n",
       "2          102  cathy   44   F              4.8  account-a  1.609038e+09\n",
       "3          103  danny   44   M              2.1  account-a  1.609038e+09\n",
       "4          104  emily   44   F              1.5  account-a  1.609038e+09, max_workers=5, _futures={<Future at 0x7fe9bd3be080 state=finished returned NoneType>: (0, 1), <Future at 0x7fe9bd3be2e8 state=finished returned NoneType>: (1, 2), <Future at 0x7fe9bd3be550 state=finished returned NoneType>: (2, 3), <Future at 0x7fe9bd3bff28 state=finished returned NoneType>: (3, 4), <Future at 0x7fe9bd375710 state=finished returned NoneType>: (4, 5)})"
      ]
     },
     "execution_count": 26,
     "metadata": {},
     "output_type": "execute_result"
    }
   ],
   "source": [
    "%%time\n",
    "\n",
    "feature_group.ingest(data_frame=features, max_workers=5, wait=True)"
   ]
  },
  {
   "cell_type": "markdown",
   "metadata": {},
   "source": [
    "### Get Record from Online Store (Available Immediately)"
   ]
  },
  {
   "cell_type": "markdown",
   "metadata": {},
   "source": [
    "To confirm that data has been ingested, we can quickly retrieve a record from the online store:"
   ]
  },
  {
   "cell_type": "code",
   "execution_count": 27,
   "metadata": {},
   "outputs": [
    {
     "data": {
      "text/plain": [
       "{'ResponseMetadata': {'RequestId': '73ff6a5d-7305-4c7f-a3a1-2e82cab98b5b',\n",
       "  'HTTPStatusCode': 200,\n",
       "  'HTTPHeaders': {'x-amzn-requestid': '73ff6a5d-7305-4c7f-a3a1-2e82cab98b5b',\n",
       "   'content-type': 'application/json',\n",
       "   'content-length': '369',\n",
       "   'date': 'Sun, 27 Dec 2020 02:58:23 GMT',\n",
       "   'connection': 'close'},\n",
       "  'RetryAttempts': 0},\n",
       " 'Record': [{'FeatureName': 'employee_id', 'ValueAsString': '101'},\n",
       "  {'FeatureName': 'name', 'ValueAsString': 'brett'},\n",
       "  {'FeatureName': 'age', 'ValueAsString': '34'},\n",
       "  {'FeatureName': 'sex', 'ValueAsString': 'F'},\n",
       "  {'FeatureName': 'happiness_score', 'ValueAsString': '3.7'},\n",
       "  {'FeatureName': 'created_by', 'ValueAsString': 'account-a'},\n",
       "  {'FeatureName': 'event_time', 'ValueAsString': '1609037857.0'}]}"
      ]
     },
     "execution_count": 27,
     "metadata": {},
     "output_type": "execute_result"
    }
   ],
   "source": [
    "record_identifier = str(101)\n",
    "\n",
    "featurestore_runtime.get_record(FeatureGroupName=feature_group_name, \n",
    "                                RecordIdentifierValueAsString=record_identifier)"
   ]
  },
  {
   "cell_type": "markdown",
   "metadata": {},
   "source": [
    "### Get Records from Offline Store\n",
    "Now let's wait for the data to appear in our offline store before moving forward to creating a dataset. This will take approximately 5 minutes."
   ]
  },
  {
   "cell_type": "code",
   "execution_count": 28,
   "metadata": {},
   "outputs": [],
   "source": [
    "account_id = boto3.client('sts').get_caller_identity()['Account']"
   ]
  },
  {
   "cell_type": "code",
   "execution_count": 29,
   "metadata": {},
   "outputs": [
    {
     "data": {
      "text/plain": [
       "'892313895307/sagemaker/us-east-1/offline-store/employees/data'"
      ]
     },
     "execution_count": 29,
     "metadata": {},
     "output_type": "execute_result"
    }
   ],
   "source": [
    "feature_group_s3_prefix = f'{account_id}/sagemaker/{region}/offline-store/{feature_group_name}/data'\n",
    "feature_group_s3_prefix"
   ]
  },
  {
   "cell_type": "code",
   "execution_count": 30,
   "metadata": {},
   "outputs": [
    {
     "name": "stderr",
     "output_type": "stream",
     "text": [
      "[Waiting for data in Offline Store...]\n",
      "[Waiting for data in Offline Store...]\n",
      "[Waiting for data in Offline Store...]\n",
      "[Waiting for data in Offline Store...]\n",
      "[Waiting for data in Offline Store...]\n",
      "[Waiting for data in Offline Store...]\n",
      "[Features are available in Offline Store!]\n"
     ]
    }
   ],
   "source": [
    "offline_store_contents = None\n",
    "while offline_store_contents is None:\n",
    "    objects = s3_client.list_objects(Bucket=bucket, Prefix=feature_group_s3_prefix)\n",
    "    if 'Contents' in objects and len(objects['Contents']) > 1:\n",
    "        logger.info('[Features are available in Offline Store!]')\n",
    "        offline_store_contents = objects['Contents']\n",
    "    else:\n",
    "        logger.info('[Waiting for data in Offline Store...]')\n",
    "        time.sleep(60)"
   ]
  },
  {
   "cell_type": "code",
   "execution_count": 31,
   "metadata": {},
   "outputs": [
    {
     "data": {
      "text/plain": [
       "[{'Key': '892313895307/sagemaker/us-east-1/offline-store/employees/data/year=2020/month=12/day=27/hour=02/20201227T025737Z_WM6b4B9KNQzxrjGo.parquet',\n",
       "  'LastModified': datetime.datetime(2020, 12, 27, 3, 3, 33, tzinfo=tzlocal()),\n",
       "  'ETag': '\"a7898514cb35692e783ac0b0a9537585\"',\n",
       "  'Size': 2081,\n",
       "  'StorageClass': 'STANDARD',\n",
       "  'Owner': {'DisplayName': 'arunprsh_test1',\n",
       "   'ID': 'a52ce3999cdab5111cb19ca94abf5de5a69d62f34baa7d4422c630549fad3bd0'}},\n",
       " {'Key': '892313895307/sagemaker/us-east-1/offline-store/employees/data/year=2020/month=12/day=27/hour=02/20201227T025737Z_lV6rFzUwp7njtUyA.parquet',\n",
       "  'LastModified': datetime.datetime(2020, 12, 27, 3, 3, 33, tzinfo=tzlocal()),\n",
       "  'ETag': '\"dd039e940d3a95ef9dfdc83538ebae73\"',\n",
       "  'Size': 2143,\n",
       "  'StorageClass': 'STANDARD',\n",
       "  'Owner': {'DisplayName': 'arunprsh_test1',\n",
       "   'ID': 'a52ce3999cdab5111cb19ca94abf5de5a69d62f34baa7d4422c630549fad3bd0'}}]"
      ]
     },
     "execution_count": 31,
     "metadata": {},
     "output_type": "execute_result"
    }
   ],
   "source": [
    "offline_store_contents"
   ]
  },
  {
   "cell_type": "markdown",
   "metadata": {},
   "source": [
    "#### Inspect the Parquet Files (Offline Store) using AWS Wrangler"
   ]
  },
  {
   "cell_type": "code",
   "execution_count": 32,
   "metadata": {},
   "outputs": [
    {
     "data": {
      "text/plain": [
       "'s3://sagemaker-feature-store-account-a/892313895307/sagemaker/us-east-1/offline-store/employees/data'"
      ]
     },
     "execution_count": 32,
     "metadata": {},
     "output_type": "execute_result"
    }
   ],
   "source": [
    "s3_prefix = '/'.join(offline_store_contents[0]['Key'].split('/')[:-5])\n",
    "s3_uri = f's3://{bucket}/{s3_prefix}'\n",
    "s3_uri"
   ]
  },
  {
   "cell_type": "code",
   "execution_count": 33,
   "metadata": {},
   "outputs": [],
   "source": [
    "df = wr.s3.read_parquet(path=s3_uri)"
   ]
  },
  {
   "cell_type": "code",
   "execution_count": 34,
   "metadata": {},
   "outputs": [
    {
     "data": {
      "text/html": [
       "<div>\n",
       "<style scoped>\n",
       "    .dataframe tbody tr th:only-of-type {\n",
       "        vertical-align: middle;\n",
       "    }\n",
       "\n",
       "    .dataframe tbody tr th {\n",
       "        vertical-align: top;\n",
       "    }\n",
       "\n",
       "    .dataframe thead th {\n",
       "        text-align: right;\n",
       "    }\n",
       "</style>\n",
       "<table border=\"1\" class=\"dataframe\">\n",
       "  <thead>\n",
       "    <tr style=\"text-align: right;\">\n",
       "      <th></th>\n",
       "      <th>employee_id</th>\n",
       "      <th>name</th>\n",
       "      <th>age</th>\n",
       "      <th>sex</th>\n",
       "      <th>happiness_score</th>\n",
       "      <th>created_by</th>\n",
       "      <th>event_time</th>\n",
       "      <th>write_time</th>\n",
       "      <th>api_invocation_time</th>\n",
       "      <th>is_deleted</th>\n",
       "    </tr>\n",
       "  </thead>\n",
       "  <tbody>\n",
       "    <tr>\n",
       "      <th>0</th>\n",
       "      <td>100</td>\n",
       "      <td>aaron</td>\n",
       "      <td>33</td>\n",
       "      <td>M</td>\n",
       "      <td>4.2</td>\n",
       "      <td>account-a</td>\n",
       "      <td>1.609038e+09</td>\n",
       "      <td>2020-12-27 03:03:32.808000+00:00</td>\n",
       "      <td>2020-12-27 02:58:19+00:00</td>\n",
       "      <td>False</td>\n",
       "    </tr>\n",
       "    <tr>\n",
       "      <th>1</th>\n",
       "      <td>101</td>\n",
       "      <td>brett</td>\n",
       "      <td>34</td>\n",
       "      <td>F</td>\n",
       "      <td>3.7</td>\n",
       "      <td>account-a</td>\n",
       "      <td>1.609038e+09</td>\n",
       "      <td>2020-12-27 03:03:32.808000+00:00</td>\n",
       "      <td>2020-12-27 02:58:19+00:00</td>\n",
       "      <td>False</td>\n",
       "    </tr>\n",
       "    <tr>\n",
       "      <th>0</th>\n",
       "      <td>104</td>\n",
       "      <td>emily</td>\n",
       "      <td>44</td>\n",
       "      <td>F</td>\n",
       "      <td>1.5</td>\n",
       "      <td>account-a</td>\n",
       "      <td>1.609038e+09</td>\n",
       "      <td>2020-12-27 03:03:32.863000+00:00</td>\n",
       "      <td>2020-12-27 02:58:19+00:00</td>\n",
       "      <td>False</td>\n",
       "    </tr>\n",
       "    <tr>\n",
       "      <th>1</th>\n",
       "      <td>102</td>\n",
       "      <td>cathy</td>\n",
       "      <td>44</td>\n",
       "      <td>F</td>\n",
       "      <td>4.8</td>\n",
       "      <td>account-a</td>\n",
       "      <td>1.609038e+09</td>\n",
       "      <td>2020-12-27 03:03:32.863000+00:00</td>\n",
       "      <td>2020-12-27 02:58:19+00:00</td>\n",
       "      <td>False</td>\n",
       "    </tr>\n",
       "    <tr>\n",
       "      <th>2</th>\n",
       "      <td>103</td>\n",
       "      <td>danny</td>\n",
       "      <td>44</td>\n",
       "      <td>M</td>\n",
       "      <td>2.1</td>\n",
       "      <td>account-a</td>\n",
       "      <td>1.609038e+09</td>\n",
       "      <td>2020-12-27 03:03:32.863000+00:00</td>\n",
       "      <td>2020-12-27 02:58:19+00:00</td>\n",
       "      <td>False</td>\n",
       "    </tr>\n",
       "  </tbody>\n",
       "</table>\n",
       "</div>"
      ],
      "text/plain": [
       "   employee_id   name  age sex  happiness_score created_by    event_time  \\\n",
       "0          100  aaron   33   M              4.2  account-a  1.609038e+09   \n",
       "1          101  brett   34   F              3.7  account-a  1.609038e+09   \n",
       "0          104  emily   44   F              1.5  account-a  1.609038e+09   \n",
       "1          102  cathy   44   F              4.8  account-a  1.609038e+09   \n",
       "2          103  danny   44   M              2.1  account-a  1.609038e+09   \n",
       "\n",
       "                        write_time       api_invocation_time  is_deleted  \n",
       "0 2020-12-27 03:03:32.808000+00:00 2020-12-27 02:58:19+00:00       False  \n",
       "1 2020-12-27 03:03:32.808000+00:00 2020-12-27 02:58:19+00:00       False  \n",
       "0 2020-12-27 03:03:32.863000+00:00 2020-12-27 02:58:19+00:00       False  \n",
       "1 2020-12-27 03:03:32.863000+00:00 2020-12-27 02:58:19+00:00       False  \n",
       "2 2020-12-27 03:03:32.863000+00:00 2020-12-27 02:58:19+00:00       False  "
      ]
     },
     "execution_count": 34,
     "metadata": {},
     "output_type": "execute_result"
    }
   ],
   "source": [
    "df"
   ]
  },
  {
   "cell_type": "markdown",
   "metadata": {},
   "source": [
    "### Build Train Set from Offline Store Features using Glue and Athena\n",
    "SageMaker FeatureStore <b>automatically</b> builds the `Glue Data Catalog` for FeatureGroups (you can optionally turn it on/off while creating the FeatureGroup). In this example, we want to create one training dataset with FeatureValues from the feature group we created. This is done by utilizing the auto-built Catalog. We can then run an `Athena` query that pulls the data stored in the offline store in S3 from the FeatureGroup."
   ]
  },
  {
   "cell_type": "code",
   "execution_count": 35,
   "metadata": {},
   "outputs": [
    {
     "data": {
      "text/plain": [
       "{'catalog': 'AwsDataCatalog',\n",
       " 'database': 'sagemaker_featurestore',\n",
       " 'table_name': 'employees-1609037877',\n",
       " 'sagemaker_session': <sagemaker.session.Session at 0x7fe9beea80f0>,\n",
       " '_current_query_execution_id': None,\n",
       " '_result_bucket': None,\n",
       " '_result_file_prefix': None}"
      ]
     },
     "execution_count": 35,
     "metadata": {},
     "output_type": "execute_result"
    }
   ],
   "source": [
    "query = feature_group.athena_query()\n",
    "query.__dict__"
   ]
  },
  {
   "cell_type": "code",
   "execution_count": 36,
   "metadata": {},
   "outputs": [
    {
     "data": {
      "text/plain": [
       "'employees-1609037877'"
      ]
     },
     "execution_count": 36,
     "metadata": {},
     "output_type": "execute_result"
    }
   ],
   "source": [
    "table = query.table_name\n",
    "table"
   ]
  },
  {
   "cell_type": "code",
   "execution_count": 37,
   "metadata": {},
   "outputs": [
    {
     "name": "stdout",
     "output_type": "stream",
     "text": [
      "Running SELECT * FROM \"employees-1609037877\"\n"
     ]
    }
   ],
   "source": [
    "query_string = f'SELECT * FROM \"{table}\"'\n",
    "print('Running ' + query_string)"
   ]
  },
  {
   "cell_type": "code",
   "execution_count": 38,
   "metadata": {},
   "outputs": [
    {
     "name": "stderr",
     "output_type": "stream",
     "text": [
      "Query 46a5a17e-fd67-47b9-8fd7-179f51f5e671 is being executed.\n",
      "Query 46a5a17e-fd67-47b9-8fd7-179f51f5e671 successfully executed.\n"
     ]
    }
   ],
   "source": [
    "query.run(query_string=query_string, output_location=f's3://{bucket}/{account_id}/query_results/')\n",
    "query.wait()"
   ]
  },
  {
   "cell_type": "code",
   "execution_count": 39,
   "metadata": {},
   "outputs": [
    {
     "data": {
      "text/html": [
       "<div>\n",
       "<style scoped>\n",
       "    .dataframe tbody tr th:only-of-type {\n",
       "        vertical-align: middle;\n",
       "    }\n",
       "\n",
       "    .dataframe tbody tr th {\n",
       "        vertical-align: top;\n",
       "    }\n",
       "\n",
       "    .dataframe thead th {\n",
       "        text-align: right;\n",
       "    }\n",
       "</style>\n",
       "<table border=\"1\" class=\"dataframe\">\n",
       "  <thead>\n",
       "    <tr style=\"text-align: right;\">\n",
       "      <th></th>\n",
       "      <th>employee_id</th>\n",
       "      <th>name</th>\n",
       "      <th>age</th>\n",
       "      <th>sex</th>\n",
       "      <th>happiness_score</th>\n",
       "      <th>created_by</th>\n",
       "    </tr>\n",
       "  </thead>\n",
       "  <tbody>\n",
       "    <tr>\n",
       "      <th>0</th>\n",
       "      <td>100</td>\n",
       "      <td>aaron</td>\n",
       "      <td>33</td>\n",
       "      <td>M</td>\n",
       "      <td>4.2</td>\n",
       "      <td>account-a</td>\n",
       "    </tr>\n",
       "    <tr>\n",
       "      <th>1</th>\n",
       "      <td>101</td>\n",
       "      <td>brett</td>\n",
       "      <td>34</td>\n",
       "      <td>F</td>\n",
       "      <td>3.7</td>\n",
       "      <td>account-a</td>\n",
       "    </tr>\n",
       "    <tr>\n",
       "      <th>2</th>\n",
       "      <td>104</td>\n",
       "      <td>emily</td>\n",
       "      <td>44</td>\n",
       "      <td>F</td>\n",
       "      <td>1.5</td>\n",
       "      <td>account-a</td>\n",
       "    </tr>\n",
       "    <tr>\n",
       "      <th>3</th>\n",
       "      <td>102</td>\n",
       "      <td>cathy</td>\n",
       "      <td>44</td>\n",
       "      <td>F</td>\n",
       "      <td>4.8</td>\n",
       "      <td>account-a</td>\n",
       "    </tr>\n",
       "    <tr>\n",
       "      <th>4</th>\n",
       "      <td>103</td>\n",
       "      <td>danny</td>\n",
       "      <td>44</td>\n",
       "      <td>M</td>\n",
       "      <td>2.1</td>\n",
       "      <td>account-a</td>\n",
       "    </tr>\n",
       "  </tbody>\n",
       "</table>\n",
       "</div>"
      ],
      "text/plain": [
       "   employee_id   name  age sex  happiness_score created_by\n",
       "0          100  aaron   33   M              4.2  account-a\n",
       "1          101  brett   34   F              3.7  account-a\n",
       "2          104  emily   44   F              1.5  account-a\n",
       "3          102  cathy   44   F              4.8  account-a\n",
       "4          103  danny   44   M              2.1  account-a"
      ]
     },
     "execution_count": 39,
     "metadata": {},
     "output_type": "execute_result"
    }
   ],
   "source": [
    "df = query.as_dataframe()[['employee_id', 'name', 'age', 'sex', 'happiness_score', 'created_by']]\n",
    "df"
   ]
  },
  {
   "cell_type": "code",
   "execution_count": null,
   "metadata": {},
   "outputs": [],
   "source": []
  }
 ],
 "metadata": {
  "kernelspec": {
   "display_name": "conda_python3",
   "language": "python",
   "name": "conda_python3"
  },
  "language_info": {
   "codemirror_mode": {
    "name": "ipython",
    "version": 3
   },
   "file_extension": ".py",
   "mimetype": "text/x-python",
   "name": "python",
   "nbconvert_exporter": "python",
   "pygments_lexer": "ipython3",
   "version": "3.6.10"
  }
 },
 "nbformat": 4,
 "nbformat_minor": 4
}
