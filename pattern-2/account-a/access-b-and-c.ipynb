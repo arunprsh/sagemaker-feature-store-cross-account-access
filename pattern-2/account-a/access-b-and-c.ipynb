{
 "cells": [
  {
   "cell_type": "markdown",
   "metadata": {},
   "source": [
    "## Inside Account A"
   ]
  },
  {
   "cell_type": "markdown",
   "metadata": {},
   "source": [
    "This account demonstrates how to access feature groups owned by Account B & C from within Account A. <br>\n",
    "<b>Note:</b> Run this notebook, if you had allowed this access by granting ACLs to Account A when creating feature groups in Account B and C. Notebooks x and y grant ACLs, ensure they are run."
   ]
  },
  {
   "cell_type": "markdown",
   "metadata": {},
   "source": [
    "#### Imports"
   ]
  },
  {
   "cell_type": "code",
   "execution_count": 1,
   "metadata": {},
   "outputs": [],
   "source": [
    "import awswrangler as wr\n",
    "import boto3"
   ]
  },
  {
   "cell_type": "markdown",
   "metadata": {},
   "source": [
    "#### Essentials"
   ]
  },
  {
   "cell_type": "code",
   "execution_count": 2,
   "metadata": {},
   "outputs": [],
   "source": [
    "region = boto3.Session().region_name\n",
    "s3_client = boto3.client('s3', region_name=region)"
   ]
  },
  {
   "cell_type": "code",
   "execution_count": 3,
   "metadata": {},
   "outputs": [
    {
     "data": {
      "text/plain": [
       "'s3://sagemaker-feature-store-account-a/'"
      ]
     },
     "execution_count": 3,
     "metadata": {},
     "output_type": "execute_result"
    }
   ],
   "source": [
    "bucket = 'sagemaker-feature-store-account-a'\n",
    "offline_feature_store_s3_uri = f's3://{bucket}/'\n",
    "offline_feature_store_s3_uri"
   ]
  },
  {
   "cell_type": "markdown",
   "metadata": {},
   "source": [
    "#### Validate if we can access feature groups created by Account B from here (Account A) "
   ]
  },
  {
   "cell_type": "code",
   "execution_count": 4,
   "metadata": {},
   "outputs": [
    {
     "data": {
      "text/plain": [
       "'105242341581/sagemaker/us-east-1/offline-store/employees/data'"
      ]
     },
     "execution_count": 4,
     "metadata": {},
     "output_type": "execute_result"
    }
   ],
   "source": [
    "account_id = '149456328460' # account ID of account B\n",
    "feature_group_name = 'employees'\n",
    "feature_group_s3_prefix = f'{account_id}/sagemaker/{region}/offline-store/{feature_group_name}/data'\n",
    "feature_group_s3_prefix"
   ]
  },
  {
   "cell_type": "code",
   "execution_count": 5,
   "metadata": {},
   "outputs": [
    {
     "data": {
      "text/plain": [
       "[{'Key': '105242341581/sagemaker/us-east-1/offline-store/employees/data/year=2020/month=12/day=26/hour=05/20201226T052702Z_dQfG217E6W3YzrQG.parquet',\n",
       "  'LastModified': datetime.datetime(2020, 12, 26, 5, 34, 4, tzinfo=tzlocal()),\n",
       "  'ETag': '\"45952a5f07959138c79dcc911f694926\"',\n",
       "  'Size': 2145,\n",
       "  'StorageClass': 'STANDARD',\n",
       "  'Owner': {'DisplayName': 'yavapai_testbed',\n",
       "   'ID': '768394a884ee2c604687e993ff8f4f5e6320bac8de2bba100ae7686a611b9260'}},\n",
       " {'Key': '105242341581/sagemaker/us-east-1/offline-store/employees/data/year=2020/month=12/day=26/hour=05/20201226T052702Z_eBeXvcYNpyKLQ8VO.parquet',\n",
       "  'LastModified': datetime.datetime(2020, 12, 26, 5, 34, 6, tzinfo=tzlocal()),\n",
       "  'ETag': '\"841bf63b46363b154cca7562d8aa3b3c\"',\n",
       "  'Size': 2075,\n",
       "  'StorageClass': 'STANDARD',\n",
       "  'Owner': {'DisplayName': 'yavapai_testbed',\n",
       "   'ID': '768394a884ee2c604687e993ff8f4f5e6320bac8de2bba100ae7686a611b9260'}}]"
      ]
     },
     "execution_count": 5,
     "metadata": {},
     "output_type": "execute_result"
    }
   ],
   "source": [
    "offline_store_contents = None\n",
    "objects = s3_client.list_objects(Bucket=bucket, Prefix=feature_group_s3_prefix)\n",
    "if 'Contents' in objects and len(objects['Contents']) > 1:\n",
    "    offline_store_contents = objects['Contents']\n",
    "offline_store_contents"
   ]
  },
  {
   "cell_type": "code",
   "execution_count": 6,
   "metadata": {},
   "outputs": [
    {
     "data": {
      "text/plain": [
       "'s3://sagemaker-feature-store-account-a/105242341581/sagemaker/us-east-1/offline-store/employees/data'"
      ]
     },
     "execution_count": 6,
     "metadata": {},
     "output_type": "execute_result"
    }
   ],
   "source": [
    "s3_prefix = '/'.join(offline_store_contents[0]['Key'].split('/')[:-5])\n",
    "s3_uri = f's3://{bucket}/{s3_prefix}'\n",
    "s3_uri"
   ]
  },
  {
   "cell_type": "code",
   "execution_count": 7,
   "metadata": {},
   "outputs": [
    {
     "data": {
      "text/html": [
       "<div>\n",
       "<style scoped>\n",
       "    .dataframe tbody tr th:only-of-type {\n",
       "        vertical-align: middle;\n",
       "    }\n",
       "\n",
       "    .dataframe tbody tr th {\n",
       "        vertical-align: top;\n",
       "    }\n",
       "\n",
       "    .dataframe thead th {\n",
       "        text-align: right;\n",
       "    }\n",
       "</style>\n",
       "<table border=\"1\" class=\"dataframe\">\n",
       "  <thead>\n",
       "    <tr style=\"text-align: right;\">\n",
       "      <th></th>\n",
       "      <th>employee_id</th>\n",
       "      <th>name</th>\n",
       "      <th>age</th>\n",
       "      <th>sex</th>\n",
       "      <th>happiness_score</th>\n",
       "      <th>created_by</th>\n",
       "      <th>event_time</th>\n",
       "      <th>write_time</th>\n",
       "      <th>api_invocation_time</th>\n",
       "      <th>is_deleted</th>\n",
       "    </tr>\n",
       "  </thead>\n",
       "  <tbody>\n",
       "    <tr>\n",
       "      <th>0</th>\n",
       "      <td>102</td>\n",
       "      <td>cara</td>\n",
       "      <td>43</td>\n",
       "      <td>F</td>\n",
       "      <td>4.3</td>\n",
       "      <td>account-c</td>\n",
       "      <td>1.608960e+09</td>\n",
       "      <td>2020-12-26 05:33:32.659000+00:00</td>\n",
       "      <td>2020-12-26 05:27:52+00:00</td>\n",
       "      <td>False</td>\n",
       "    </tr>\n",
       "    <tr>\n",
       "      <th>1</th>\n",
       "      <td>104</td>\n",
       "      <td>elan</td>\n",
       "      <td>61</td>\n",
       "      <td>F</td>\n",
       "      <td>4.3</td>\n",
       "      <td>account-c</td>\n",
       "      <td>1.608960e+09</td>\n",
       "      <td>2020-12-26 05:33:32.659000+00:00</td>\n",
       "      <td>2020-12-26 05:27:52+00:00</td>\n",
       "      <td>False</td>\n",
       "    </tr>\n",
       "    <tr>\n",
       "      <th>2</th>\n",
       "      <td>103</td>\n",
       "      <td>dave</td>\n",
       "      <td>54</td>\n",
       "      <td>M</td>\n",
       "      <td>3.5</td>\n",
       "      <td>account-c</td>\n",
       "      <td>1.608960e+09</td>\n",
       "      <td>2020-12-26 05:33:32.659000+00:00</td>\n",
       "      <td>2020-12-26 05:27:52+00:00</td>\n",
       "      <td>False</td>\n",
       "    </tr>\n",
       "    <tr>\n",
       "      <th>0</th>\n",
       "      <td>100</td>\n",
       "      <td>alex</td>\n",
       "      <td>23</td>\n",
       "      <td>M</td>\n",
       "      <td>1.4</td>\n",
       "      <td>account-c</td>\n",
       "      <td>1.608960e+09</td>\n",
       "      <td>2020-12-26 05:33:32.703000+00:00</td>\n",
       "      <td>2020-12-26 05:27:52+00:00</td>\n",
       "      <td>False</td>\n",
       "    </tr>\n",
       "    <tr>\n",
       "      <th>1</th>\n",
       "      <td>101</td>\n",
       "      <td>bria</td>\n",
       "      <td>29</td>\n",
       "      <td>F</td>\n",
       "      <td>4.5</td>\n",
       "      <td>account-c</td>\n",
       "      <td>1.608960e+09</td>\n",
       "      <td>2020-12-26 05:33:32.703000+00:00</td>\n",
       "      <td>2020-12-26 05:27:52+00:00</td>\n",
       "      <td>False</td>\n",
       "    </tr>\n",
       "  </tbody>\n",
       "</table>\n",
       "</div>"
      ],
      "text/plain": [
       "   employee_id  name  age sex  happiness_score created_by    event_time  \\\n",
       "0          102  cara   43   F              4.3  account-c  1.608960e+09   \n",
       "1          104  elan   61   F              4.3  account-c  1.608960e+09   \n",
       "2          103  dave   54   M              3.5  account-c  1.608960e+09   \n",
       "0          100  alex   23   M              1.4  account-c  1.608960e+09   \n",
       "1          101  bria   29   F              4.5  account-c  1.608960e+09   \n",
       "\n",
       "                        write_time       api_invocation_time  is_deleted  \n",
       "0 2020-12-26 05:33:32.659000+00:00 2020-12-26 05:27:52+00:00       False  \n",
       "1 2020-12-26 05:33:32.659000+00:00 2020-12-26 05:27:52+00:00       False  \n",
       "2 2020-12-26 05:33:32.659000+00:00 2020-12-26 05:27:52+00:00       False  \n",
       "0 2020-12-26 05:33:32.703000+00:00 2020-12-26 05:27:52+00:00       False  \n",
       "1 2020-12-26 05:33:32.703000+00:00 2020-12-26 05:27:52+00:00       False  "
      ]
     },
     "execution_count": 7,
     "metadata": {},
     "output_type": "execute_result"
    }
   ],
   "source": [
    "df = wr.s3.read_parquet(path=s3_uri)\n",
    "df"
   ]
  },
  {
   "cell_type": "markdown",
   "metadata": {},
   "source": [
    "#### Validate if we can access feature groups created by Account C from here (Account A) "
   ]
  },
  {
   "cell_type": "code",
   "execution_count": null,
   "metadata": {},
   "outputs": [],
   "source": [
    "account_id = '105242341581' # account ID of account C\n",
    "feature_group_name = 'employees'\n",
    "feature_group_s3_prefix = f'{account_id}/sagemaker/{region}/offline-store/{feature_group_name}/data'\n",
    "feature_group_s3_prefix"
   ]
  },
  {
   "cell_type": "code",
   "execution_count": null,
   "metadata": {},
   "outputs": [],
   "source": [
    "offline_store_contents = None\n",
    "objects = s3_client.list_objects(Bucket=bucket, Prefix=feature_group_s3_prefix)\n",
    "if 'Contents' in objects and len(objects['Contents']) > 1:\n",
    "    offline_store_contents = objects['Contents']\n",
    "offline_store_contents"
   ]
  },
  {
   "cell_type": "code",
   "execution_count": null,
   "metadata": {},
   "outputs": [],
   "source": [
    "s3_prefix = '/'.join(offline_store_contents[0]['Key'].split('/')[:-5])\n",
    "s3_uri = f's3://{bucket}/{s3_prefix}'\n",
    "s3_uri"
   ]
  },
  {
   "cell_type": "code",
   "execution_count": null,
   "metadata": {},
   "outputs": [],
   "source": [
    "df = wr.s3.read_parquet(path=s3_uri)\n",
    "df"
   ]
  }
 ],
 "metadata": {
  "kernelspec": {
   "display_name": "conda_python3",
   "language": "python",
   "name": "conda_python3"
  },
  "language_info": {
   "codemirror_mode": {
    "name": "ipython",
    "version": 3
   },
   "file_extension": ".py",
   "mimetype": "text/x-python",
   "name": "python",
   "nbconvert_exporter": "python",
   "pygments_lexer": "ipython3",
   "version": "3.6.10"
  }
 },
 "nbformat": 4,
 "nbformat_minor": 4
}
