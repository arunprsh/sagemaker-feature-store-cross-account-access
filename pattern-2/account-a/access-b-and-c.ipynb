{
 "cells": [
  {
   "cell_type": "markdown",
   "metadata": {},
   "source": [
    "## Inside Account A"
   ]
  },
  {
   "cell_type": "markdown",
   "metadata": {},
   "source": [
    "This account demonstrates how to access feature groups owned by Account B & C from within Account A. <br>\n",
    "<b>Note:</b> Run this notebook, if you had allowed this access by granting ACLs to Account A when creating feature groups in Account B and C. Notebooks x and y grant ACLs, ensure they are run."
   ]
  },
  {
   "cell_type": "markdown",
   "metadata": {},
   "source": [
    "#### Imports"
   ]
  },
  {
   "cell_type": "code",
   "execution_count": 1,
   "metadata": {},
   "outputs": [],
   "source": [
    "import awswrangler as wr\n",
    "import boto3"
   ]
  },
  {
   "cell_type": "markdown",
   "metadata": {},
   "source": [
    "#### Essentials"
   ]
  },
  {
   "cell_type": "code",
   "execution_count": 2,
   "metadata": {},
   "outputs": [],
   "source": [
    "region = boto3.Session().region_name\n",
    "s3_client = boto3.client('s3', region_name=region)"
   ]
  },
  {
   "cell_type": "code",
   "execution_count": 3,
   "metadata": {},
   "outputs": [
    {
     "data": {
      "text/plain": [
       "'s3://sagemaker-feature-store-account-a/'"
      ]
     },
     "execution_count": 3,
     "metadata": {},
     "output_type": "execute_result"
    }
   ],
   "source": [
    "bucket = 'sagemaker-feature-store-account-a'\n",
    "offline_feature_store_s3_uri = f's3://{bucket}/'\n",
    "offline_feature_store_s3_uri"
   ]
  },
  {
   "cell_type": "markdown",
   "metadata": {},
   "source": [
    "#### Validate if we can access feature groups created by Account B from here (Account A) "
   ]
  },
  {
   "cell_type": "code",
   "execution_count": 4,
   "metadata": {},
   "outputs": [
    {
     "data": {
      "text/plain": [
       "'149456328460/sagemaker/us-east-1/offline-store/employees/data'"
      ]
     },
     "execution_count": 4,
     "metadata": {},
     "output_type": "execute_result"
    }
   ],
   "source": [
    "account_id = '149456328460' # account ID of account B\n",
    "feature_group_name = 'employees'\n",
    "feature_group_s3_prefix = f'{account_id}/sagemaker/{region}/offline-store/{feature_group_name}/data'\n",
    "feature_group_s3_prefix"
   ]
  },
  {
   "cell_type": "code",
   "execution_count": 5,
   "metadata": {},
   "outputs": [
    {
     "data": {
      "text/plain": [
       "[{'Key': '149456328460/sagemaker/us-east-1/offline-store/employees/data/year=2020/month=12/day=27/hour=05/20201227T055804Z_g0RfUU00NRUTPNzQ.parquet',\n",
       "  'LastModified': datetime.datetime(2020, 12, 27, 6, 5, 45, tzinfo=tzlocal()),\n",
       "  'ETag': '\"673b16948782325ad8fa1d9aa27d1c9f\"',\n",
       "  'Size': 2137,\n",
       "  'StorageClass': 'STANDARD',\n",
       "  'Owner': {'DisplayName': 'arunprsh',\n",
       "   'ID': '149b24f8987e48d549b9c2b494029c94d6c1e8b7b91092cad62ca7cd89aea747'}},\n",
       " {'Key': '149456328460/sagemaker/us-east-1/offline-store/employees/data/year=2020/month=12/day=27/hour=05/20201227T055804Z_sDCkKUEjSM6evhC4.parquet',\n",
       "  'LastModified': datetime.datetime(2020, 12, 27, 6, 5, 48, tzinfo=tzlocal()),\n",
       "  'ETag': '\"ba070c86bcedfc828a3a7531197d2f03\"',\n",
       "  'Size': 2081,\n",
       "  'StorageClass': 'STANDARD',\n",
       "  'Owner': {'DisplayName': 'arunprsh',\n",
       "   'ID': '149b24f8987e48d549b9c2b494029c94d6c1e8b7b91092cad62ca7cd89aea747'}}]"
      ]
     },
     "execution_count": 5,
     "metadata": {},
     "output_type": "execute_result"
    }
   ],
   "source": [
    "offline_store_contents = None\n",
    "objects = s3_client.list_objects(Bucket=bucket, Prefix=feature_group_s3_prefix)\n",
    "if 'Contents' in objects and len(objects['Contents']) > 1:\n",
    "    offline_store_contents = objects['Contents']\n",
    "offline_store_contents"
   ]
  },
  {
   "cell_type": "code",
   "execution_count": 6,
   "metadata": {},
   "outputs": [
    {
     "data": {
      "text/plain": [
       "'s3://sagemaker-feature-store-account-a/149456328460/sagemaker/us-east-1/offline-store/employees/data'"
      ]
     },
     "execution_count": 6,
     "metadata": {},
     "output_type": "execute_result"
    }
   ],
   "source": [
    "s3_prefix = '/'.join(offline_store_contents[0]['Key'].split('/')[:-5])\n",
    "s3_uri = f's3://{bucket}/{s3_prefix}'\n",
    "s3_uri"
   ]
  },
  {
   "cell_type": "code",
   "execution_count": 7,
   "metadata": {},
   "outputs": [
    {
     "data": {
      "text/html": [
       "<div>\n",
       "<style scoped>\n",
       "    .dataframe tbody tr th:only-of-type {\n",
       "        vertical-align: middle;\n",
       "    }\n",
       "\n",
       "    .dataframe tbody tr th {\n",
       "        vertical-align: top;\n",
       "    }\n",
       "\n",
       "    .dataframe thead th {\n",
       "        text-align: right;\n",
       "    }\n",
       "</style>\n",
       "<table border=\"1\" class=\"dataframe\">\n",
       "  <thead>\n",
       "    <tr style=\"text-align: right;\">\n",
       "      <th></th>\n",
       "      <th>employee_id</th>\n",
       "      <th>name</th>\n",
       "      <th>age</th>\n",
       "      <th>sex</th>\n",
       "      <th>happiness_score</th>\n",
       "      <th>created_by</th>\n",
       "      <th>event_time</th>\n",
       "      <th>write_time</th>\n",
       "      <th>api_invocation_time</th>\n",
       "      <th>is_deleted</th>\n",
       "    </tr>\n",
       "  </thead>\n",
       "  <tbody>\n",
       "    <tr>\n",
       "      <th>0</th>\n",
       "      <td>104</td>\n",
       "      <td>jack</td>\n",
       "      <td>54</td>\n",
       "      <td>M</td>\n",
       "      <td>3.3</td>\n",
       "      <td>account-b</td>\n",
       "      <td>1.609049e+09</td>\n",
       "      <td>2020-12-27 06:04:33.309000+00:00</td>\n",
       "      <td>2020-12-27 05:58:37+00:00</td>\n",
       "      <td>False</td>\n",
       "    </tr>\n",
       "    <tr>\n",
       "      <th>1</th>\n",
       "      <td>102</td>\n",
       "      <td>hailey</td>\n",
       "      <td>27</td>\n",
       "      <td>F</td>\n",
       "      <td>3.1</td>\n",
       "      <td>account-b</td>\n",
       "      <td>1.609049e+09</td>\n",
       "      <td>2020-12-27 06:04:33.309000+00:00</td>\n",
       "      <td>2020-12-27 05:58:37+00:00</td>\n",
       "      <td>False</td>\n",
       "    </tr>\n",
       "    <tr>\n",
       "      <th>2</th>\n",
       "      <td>103</td>\n",
       "      <td>irene</td>\n",
       "      <td>23</td>\n",
       "      <td>F</td>\n",
       "      <td>4.3</td>\n",
       "      <td>account-b</td>\n",
       "      <td>1.609049e+09</td>\n",
       "      <td>2020-12-27 06:04:33.309000+00:00</td>\n",
       "      <td>2020-12-27 05:58:37+00:00</td>\n",
       "      <td>False</td>\n",
       "    </tr>\n",
       "    <tr>\n",
       "      <th>0</th>\n",
       "      <td>100</td>\n",
       "      <td>farah</td>\n",
       "      <td>43</td>\n",
       "      <td>F</td>\n",
       "      <td>2.9</td>\n",
       "      <td>account-b</td>\n",
       "      <td>1.609049e+09</td>\n",
       "      <td>2020-12-27 06:04:33.293000+00:00</td>\n",
       "      <td>2020-12-27 05:58:37+00:00</td>\n",
       "      <td>False</td>\n",
       "    </tr>\n",
       "    <tr>\n",
       "      <th>1</th>\n",
       "      <td>101</td>\n",
       "      <td>grant</td>\n",
       "      <td>13</td>\n",
       "      <td>M</td>\n",
       "      <td>1.0</td>\n",
       "      <td>account-b</td>\n",
       "      <td>1.609049e+09</td>\n",
       "      <td>2020-12-27 06:04:33.293000+00:00</td>\n",
       "      <td>2020-12-27 05:58:37+00:00</td>\n",
       "      <td>False</td>\n",
       "    </tr>\n",
       "  </tbody>\n",
       "</table>\n",
       "</div>"
      ],
      "text/plain": [
       "   employee_id    name  age sex  happiness_score created_by    event_time  \\\n",
       "0          104    jack   54   M              3.3  account-b  1.609049e+09   \n",
       "1          102  hailey   27   F              3.1  account-b  1.609049e+09   \n",
       "2          103   irene   23   F              4.3  account-b  1.609049e+09   \n",
       "0          100   farah   43   F              2.9  account-b  1.609049e+09   \n",
       "1          101   grant   13   M              1.0  account-b  1.609049e+09   \n",
       "\n",
       "                        write_time       api_invocation_time  is_deleted  \n",
       "0 2020-12-27 06:04:33.309000+00:00 2020-12-27 05:58:37+00:00       False  \n",
       "1 2020-12-27 06:04:33.309000+00:00 2020-12-27 05:58:37+00:00       False  \n",
       "2 2020-12-27 06:04:33.309000+00:00 2020-12-27 05:58:37+00:00       False  \n",
       "0 2020-12-27 06:04:33.293000+00:00 2020-12-27 05:58:37+00:00       False  \n",
       "1 2020-12-27 06:04:33.293000+00:00 2020-12-27 05:58:37+00:00       False  "
      ]
     },
     "execution_count": 7,
     "metadata": {},
     "output_type": "execute_result"
    }
   ],
   "source": [
    "df = wr.s3.read_parquet(path=s3_uri)\n",
    "df"
   ]
  },
  {
   "cell_type": "markdown",
   "metadata": {},
   "source": [
    "#### Validate if we can access feature groups created by Account C from here (Account A) "
   ]
  },
  {
   "cell_type": "code",
   "execution_count": 8,
   "metadata": {},
   "outputs": [
    {
     "data": {
      "text/plain": [
       "'105242341581/sagemaker/us-east-1/offline-store/employees/data'"
      ]
     },
     "execution_count": 8,
     "metadata": {},
     "output_type": "execute_result"
    }
   ],
   "source": [
    "account_id = '105242341581' # account ID of account C\n",
    "feature_group_name = 'employees'\n",
    "feature_group_s3_prefix = f'{account_id}/sagemaker/{region}/offline-store/{feature_group_name}/data'\n",
    "feature_group_s3_prefix"
   ]
  },
  {
   "cell_type": "code",
   "execution_count": 9,
   "metadata": {},
   "outputs": [
    {
     "data": {
      "text/plain": [
       "[{'Key': '105242341581/sagemaker/us-east-1/offline-store/employees/data/year=2020/month=12/day=27/hour=03/20201227T034636Z_9zWwe7rPVRCDb1kU.parquet',\n",
       "  'LastModified': datetime.datetime(2020, 12, 27, 5, 36, 31, tzinfo=tzlocal()),\n",
       "  'ETag': '\"fea4741a7544457691add5dc98ffd1b5\"',\n",
       "  'Size': 2075,\n",
       "  'StorageClass': 'STANDARD',\n",
       "  'Owner': {'DisplayName': 'yavapai_testbed',\n",
       "   'ID': '768394a884ee2c604687e993ff8f4f5e6320bac8de2bba100ae7686a611b9260'}},\n",
       " {'Key': '105242341581/sagemaker/us-east-1/offline-store/employees/data/year=2020/month=12/day=27/hour=03/20201227T034636Z_QD0kvyPhROQc2zWp.parquet',\n",
       "  'LastModified': datetime.datetime(2020, 12, 27, 5, 36, 32, tzinfo=tzlocal()),\n",
       "  'ETag': '\"5aed9abe9d8b1da388d9935b0b508828\"',\n",
       "  'Size': 2145,\n",
       "  'StorageClass': 'STANDARD',\n",
       "  'Owner': {'DisplayName': 'yavapai_testbed',\n",
       "   'ID': '768394a884ee2c604687e993ff8f4f5e6320bac8de2bba100ae7686a611b9260'}}]"
      ]
     },
     "execution_count": 9,
     "metadata": {},
     "output_type": "execute_result"
    }
   ],
   "source": [
    "offline_store_contents = None\n",
    "objects = s3_client.list_objects(Bucket=bucket, Prefix=feature_group_s3_prefix)\n",
    "if 'Contents' in objects and len(objects['Contents']) > 1:\n",
    "    offline_store_contents = objects['Contents']\n",
    "offline_store_contents"
   ]
  },
  {
   "cell_type": "code",
   "execution_count": 10,
   "metadata": {},
   "outputs": [
    {
     "data": {
      "text/plain": [
       "'s3://sagemaker-feature-store-account-a/105242341581/sagemaker/us-east-1/offline-store/employees/data'"
      ]
     },
     "execution_count": 10,
     "metadata": {},
     "output_type": "execute_result"
    }
   ],
   "source": [
    "s3_prefix = '/'.join(offline_store_contents[0]['Key'].split('/')[:-5])\n",
    "s3_uri = f's3://{bucket}/{s3_prefix}'\n",
    "s3_uri"
   ]
  },
  {
   "cell_type": "code",
   "execution_count": 11,
   "metadata": {},
   "outputs": [
    {
     "data": {
      "text/html": [
       "<div>\n",
       "<style scoped>\n",
       "    .dataframe tbody tr th:only-of-type {\n",
       "        vertical-align: middle;\n",
       "    }\n",
       "\n",
       "    .dataframe tbody tr th {\n",
       "        vertical-align: top;\n",
       "    }\n",
       "\n",
       "    .dataframe thead th {\n",
       "        text-align: right;\n",
       "    }\n",
       "</style>\n",
       "<table border=\"1\" class=\"dataframe\">\n",
       "  <thead>\n",
       "    <tr style=\"text-align: right;\">\n",
       "      <th></th>\n",
       "      <th>employee_id</th>\n",
       "      <th>name</th>\n",
       "      <th>age</th>\n",
       "      <th>sex</th>\n",
       "      <th>happiness_score</th>\n",
       "      <th>created_by</th>\n",
       "      <th>event_time</th>\n",
       "      <th>write_time</th>\n",
       "      <th>api_invocation_time</th>\n",
       "      <th>is_deleted</th>\n",
       "    </tr>\n",
       "  </thead>\n",
       "  <tbody>\n",
       "    <tr>\n",
       "      <th>0</th>\n",
       "      <td>100</td>\n",
       "      <td>alex</td>\n",
       "      <td>23</td>\n",
       "      <td>M</td>\n",
       "      <td>1.4</td>\n",
       "      <td>account-c</td>\n",
       "      <td>1.609041e+09</td>\n",
       "      <td>2020-12-27 03:52:33.393000+00:00</td>\n",
       "      <td>2020-12-27 03:47:01+00:00</td>\n",
       "      <td>False</td>\n",
       "    </tr>\n",
       "    <tr>\n",
       "      <th>1</th>\n",
       "      <td>101</td>\n",
       "      <td>bria</td>\n",
       "      <td>29</td>\n",
       "      <td>F</td>\n",
       "      <td>4.5</td>\n",
       "      <td>account-c</td>\n",
       "      <td>1.609041e+09</td>\n",
       "      <td>2020-12-27 03:52:33.393000+00:00</td>\n",
       "      <td>2020-12-27 03:47:01+00:00</td>\n",
       "      <td>False</td>\n",
       "    </tr>\n",
       "    <tr>\n",
       "      <th>0</th>\n",
       "      <td>102</td>\n",
       "      <td>cara</td>\n",
       "      <td>43</td>\n",
       "      <td>F</td>\n",
       "      <td>4.3</td>\n",
       "      <td>account-c</td>\n",
       "      <td>1.609041e+09</td>\n",
       "      <td>2020-12-27 03:52:33.333000+00:00</td>\n",
       "      <td>2020-12-27 03:47:01+00:00</td>\n",
       "      <td>False</td>\n",
       "    </tr>\n",
       "    <tr>\n",
       "      <th>1</th>\n",
       "      <td>103</td>\n",
       "      <td>dave</td>\n",
       "      <td>54</td>\n",
       "      <td>M</td>\n",
       "      <td>3.5</td>\n",
       "      <td>account-c</td>\n",
       "      <td>1.609041e+09</td>\n",
       "      <td>2020-12-27 03:52:33.333000+00:00</td>\n",
       "      <td>2020-12-27 03:47:01+00:00</td>\n",
       "      <td>False</td>\n",
       "    </tr>\n",
       "    <tr>\n",
       "      <th>2</th>\n",
       "      <td>104</td>\n",
       "      <td>elan</td>\n",
       "      <td>61</td>\n",
       "      <td>F</td>\n",
       "      <td>4.3</td>\n",
       "      <td>account-c</td>\n",
       "      <td>1.609041e+09</td>\n",
       "      <td>2020-12-27 03:52:33.333000+00:00</td>\n",
       "      <td>2020-12-27 03:47:01+00:00</td>\n",
       "      <td>False</td>\n",
       "    </tr>\n",
       "  </tbody>\n",
       "</table>\n",
       "</div>"
      ],
      "text/plain": [
       "   employee_id  name  age sex  happiness_score created_by    event_time  \\\n",
       "0          100  alex   23   M              1.4  account-c  1.609041e+09   \n",
       "1          101  bria   29   F              4.5  account-c  1.609041e+09   \n",
       "0          102  cara   43   F              4.3  account-c  1.609041e+09   \n",
       "1          103  dave   54   M              3.5  account-c  1.609041e+09   \n",
       "2          104  elan   61   F              4.3  account-c  1.609041e+09   \n",
       "\n",
       "                        write_time       api_invocation_time  is_deleted  \n",
       "0 2020-12-27 03:52:33.393000+00:00 2020-12-27 03:47:01+00:00       False  \n",
       "1 2020-12-27 03:52:33.393000+00:00 2020-12-27 03:47:01+00:00       False  \n",
       "0 2020-12-27 03:52:33.333000+00:00 2020-12-27 03:47:01+00:00       False  \n",
       "1 2020-12-27 03:52:33.333000+00:00 2020-12-27 03:47:01+00:00       False  \n",
       "2 2020-12-27 03:52:33.333000+00:00 2020-12-27 03:47:01+00:00       False  "
      ]
     },
     "execution_count": 11,
     "metadata": {},
     "output_type": "execute_result"
    }
   ],
   "source": [
    "df = wr.s3.read_parquet(path=s3_uri)\n",
    "df"
   ]
  },
  {
   "cell_type": "code",
   "execution_count": null,
   "metadata": {},
   "outputs": [],
   "source": []
  }
 ],
 "metadata": {
  "kernelspec": {
   "display_name": "conda_python3",
   "language": "python",
   "name": "conda_python3"
  },
  "language_info": {
   "codemirror_mode": {
    "name": "ipython",
    "version": 3
   },
   "file_extension": ".py",
   "mimetype": "text/x-python",
   "name": "python",
   "nbconvert_exporter": "python",
   "pygments_lexer": "ipython3",
   "version": "3.6.10"
  }
 },
 "nbformat": 4,
 "nbformat_minor": 4
}
