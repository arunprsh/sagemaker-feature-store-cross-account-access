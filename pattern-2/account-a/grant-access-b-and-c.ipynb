{
 "cells": [
  {
   "cell_type": "markdown",
   "metadata": {},
   "source": [
    "# Inside Account A\n",
    "This notebook self copies S3 objects (parquet files a.k.a features) created by Account A and redefines ACLs to enable READ only access for Accounts B & C to use them. Use this notebook if this is a required pattern for your organization. This way feature groups/features created within Account A can be accessed directly from other accounts (B & C here). This notebook is optional to run."
   ]
  },
  {
   "cell_type": "markdown",
   "metadata": {},
   "source": [
    "#### Imports "
   ]
  },
  {
   "cell_type": "code",
   "execution_count": 1,
   "metadata": {},
   "outputs": [],
   "source": [
    "import boto3"
   ]
  },
  {
   "cell_type": "code",
   "execution_count": 2,
   "metadata": {},
   "outputs": [
    {
     "name": "stdout",
     "output_type": "stream",
     "text": [
      "aws-cli/1.18.179 Python/3.6.10 Linux/4.14.200-116.320.amzn1.x86_64 botocore/1.19.19\r\n"
     ]
    }
   ],
   "source": [
    "!aws --version"
   ]
  },
  {
   "cell_type": "markdown",
   "metadata": {},
   "source": [
    "#### Essentials"
   ]
  },
  {
   "cell_type": "code",
   "execution_count": 3,
   "metadata": {},
   "outputs": [
    {
     "name": "stdout",
     "output_type": "stream",
     "text": [
      "Account A = 892313895307\n"
     ]
    }
   ],
   "source": [
    "region = boto3.Session().region_name\n",
    "s3_client = boto3.client('s3', region_name=region)\n",
    "account_id = boto3.client('sts').get_caller_identity()['Account']\n",
    "print(f'Account A = {account_id}')\n",
    "bucket = 'sagemaker-feature-store-account-a'\n",
    "feature_group_name = 'employees'"
   ]
  },
  {
   "cell_type": "code",
   "execution_count": 4,
   "metadata": {},
   "outputs": [
    {
     "data": {
      "text/plain": [
       "'892313895307/sagemaker/us-east-1/offline-store/employees/data'"
      ]
     },
     "execution_count": 4,
     "metadata": {},
     "output_type": "execute_result"
    }
   ],
   "source": [
    "feature_group_s3_prefix = f'{account_id}/sagemaker/{region}/offline-store/{feature_group_name}/data'\n",
    "feature_group_s3_prefix"
   ]
  },
  {
   "cell_type": "code",
   "execution_count": 5,
   "metadata": {},
   "outputs": [
    {
     "data": {
      "text/plain": [
       "[{'Key': '892313895307/sagemaker/us-east-1/offline-store/employees/data/year=2020/month=12/day=27/hour=02/20201227T025737Z_WM6b4B9KNQzxrjGo.parquet',\n",
       "  'LastModified': datetime.datetime(2020, 12, 27, 3, 3, 33, tzinfo=tzlocal()),\n",
       "  'ETag': '\"a7898514cb35692e783ac0b0a9537585\"',\n",
       "  'Size': 2081,\n",
       "  'StorageClass': 'STANDARD',\n",
       "  'Owner': {'DisplayName': 'arunprsh_test1',\n",
       "   'ID': 'a52ce3999cdab5111cb19ca94abf5de5a69d62f34baa7d4422c630549fad3bd0'}},\n",
       " {'Key': '892313895307/sagemaker/us-east-1/offline-store/employees/data/year=2020/month=12/day=27/hour=02/20201227T025737Z_lV6rFzUwp7njtUyA.parquet',\n",
       "  'LastModified': datetime.datetime(2020, 12, 27, 3, 3, 33, tzinfo=tzlocal()),\n",
       "  'ETag': '\"dd039e940d3a95ef9dfdc83538ebae73\"',\n",
       "  'Size': 2143,\n",
       "  'StorageClass': 'STANDARD',\n",
       "  'Owner': {'DisplayName': 'arunprsh_test1',\n",
       "   'ID': 'a52ce3999cdab5111cb19ca94abf5de5a69d62f34baa7d4422c630549fad3bd0'}}]"
      ]
     },
     "execution_count": 5,
     "metadata": {},
     "output_type": "execute_result"
    }
   ],
   "source": [
    "offline_store_contents = None\n",
    "objects = s3_client.list_objects(Bucket=bucket, Prefix=feature_group_s3_prefix)\n",
    "if 'Contents' in objects and len(objects['Contents']) > 1:\n",
    "    offline_store_contents = objects['Contents']\n",
    "offline_store_contents"
   ]
  },
  {
   "cell_type": "code",
   "execution_count": 6,
   "metadata": {},
   "outputs": [],
   "source": [
    "can_id_a = \"a52ce3999cdab5111cb19ca94abf5de5a69d62f34baa7d4422c630549fad3bd0\"\n",
    "can_id_b = \"149b24f8987e48d549b9c2b494029c94d6c1e8b7b91092cad62ca7cd89aea747\"\n",
    "can_id_c = \"768394a884ee2c604687e993ff8f4f5e6320bac8de2bba100ae7686a611b9260\""
   ]
  },
  {
   "cell_type": "code",
   "execution_count": 7,
   "metadata": {},
   "outputs": [],
   "source": [
    "kms_id = \"arn:aws:kms:us-east-1:892313895307:key/d3763b61-8d94-43bd-a3d6-4b4516ad28e7\""
   ]
  },
  {
   "cell_type": "markdown",
   "metadata": {},
   "source": [
    "#### Redefine ACLs and self copy S3 objects to grant access to Account's B & C"
   ]
  },
  {
   "cell_type": "code",
   "execution_count": 8,
   "metadata": {},
   "outputs": [
    {
     "name": "stdout",
     "output_type": "stream",
     "text": [
      "Key = 892313895307/sagemaker/us-east-1/offline-store/employees/data/year=2020/month=12/day=27/hour=02/20201227T025737Z_WM6b4B9KNQzxrjGo.parquet\n",
      "{\n",
      "    \"ServerSideEncryption\": \"aws:kms\",\n",
      "    \"SSEKMSKeyId\": \"arn:aws:kms:us-east-1:892313895307:key/d3763b61-8d94-43bd-a3d6-4b4516ad28e7\",\n",
      "    \"CopyObjectResult\": {\n",
      "        \"ETag\": \"\\\"f80e68eef75a8ae811d44d9a6ff545d8\\\"\",\n",
      "        \"LastModified\": \"2020-12-27T03:07:35.000Z\"\n",
      "    }\n",
      "}\n",
      "[Self-Copy Succeeded!]\n",
      "[Redefine Object ACLs Succeeded!]\n",
      "Key = 892313895307/sagemaker/us-east-1/offline-store/employees/data/year=2020/month=12/day=27/hour=02/20201227T025737Z_lV6rFzUwp7njtUyA.parquet\n",
      "{\n",
      "    \"ServerSideEncryption\": \"aws:kms\",\n",
      "    \"SSEKMSKeyId\": \"arn:aws:kms:us-east-1:892313895307:key/d3763b61-8d94-43bd-a3d6-4b4516ad28e7\",\n",
      "    \"CopyObjectResult\": {\n",
      "        \"ETag\": \"\\\"5502fa2a6b39b5d994abad0b9fa23556\\\"\",\n",
      "        \"LastModified\": \"2020-12-27T03:07:38.000Z\"\n",
      "    }\n",
      "}\n",
      "[Self-Copy Succeeded!]\n",
      "[Redefine Object ACLs Succeeded!]\n"
     ]
    }
   ],
   "source": [
    "for content in offline_store_contents:\n",
    "    key = content['Key']\n",
    "    print(f'Key = {key}')\n",
    "    !aws s3api copy-object --copy-source {bucket}/{key} --key {key} --bucket {bucket} --server-side-encryption aws:kms  --ssekms-key-id {kms_id} && echo \"[Self-Copy Succeeded!]\"\n",
    "    !aws s3api put-object-acl --bucket {bucket} --key {key} --grant-full-control id=$can_id_a,id=$can_id_b,id=$can_id_c && echo \"[Redefine Object ACLs Succeeded!]\"\n",
    "     \n",
    "    "
   ]
  },
  {
   "cell_type": "code",
   "execution_count": null,
   "metadata": {},
   "outputs": [],
   "source": []
  }
 ],
 "metadata": {
  "kernelspec": {
   "display_name": "conda_python3",
   "language": "python",
   "name": "conda_python3"
  },
  "language_info": {
   "codemirror_mode": {
    "name": "ipython",
    "version": 3
   },
   "file_extension": ".py",
   "mimetype": "text/x-python",
   "name": "python",
   "nbconvert_exporter": "python",
   "pygments_lexer": "ipython3",
   "version": "3.6.10"
  }
 },
 "nbformat": 4,
 "nbformat_minor": 4
}
