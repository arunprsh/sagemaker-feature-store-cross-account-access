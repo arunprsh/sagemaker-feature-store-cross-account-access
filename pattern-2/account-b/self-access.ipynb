{
 "cells": [
  {
   "cell_type": "markdown",
   "metadata": {},
   "source": [
    "# Inside Account B\n",
    "### Read/Write to its own Online Store (here) + Read/Write to the Centralized Offline Store (Account A)"
   ]
  },
  {
   "cell_type": "markdown",
   "metadata": {},
   "source": [
    "#### Prerequisites"
   ]
  },
  {
   "cell_type": "code",
   "execution_count": 1,
   "metadata": {},
   "outputs": [],
   "source": [
    "#!pip install awswrangler"
   ]
  },
  {
   "cell_type": "markdown",
   "metadata": {},
   "source": [
    "#### Imports "
   ]
  },
  {
   "cell_type": "code",
   "execution_count": 2,
   "metadata": {},
   "outputs": [],
   "source": [
    "from sagemaker.feature_store.feature_group import FeatureGroup\n",
    "from sagemaker import get_execution_role\n",
    "from sagemaker.session import Session\n",
    "import awswrangler as wr\n",
    "import pandas as pd\n",
    "import sagemaker\n",
    "import logging\n",
    "import boto3\n",
    "import time\n",
    "import s3fs"
   ]
  },
  {
   "cell_type": "markdown",
   "metadata": {},
   "source": [
    "#### Setup Logger"
   ]
  },
  {
   "cell_type": "code",
   "execution_count": 3,
   "metadata": {},
   "outputs": [],
   "source": [
    "logger = logging.getLogger('sagemaker')\n",
    "logger.setLevel(logging.INFO)\n",
    "logger.addHandler(logging.StreamHandler())"
   ]
  },
  {
   "cell_type": "code",
   "execution_count": 4,
   "metadata": {},
   "outputs": [
    {
     "name": "stderr",
     "output_type": "stream",
     "text": [
      "[Using SageMaker version: 2.16.4.dev0]\n"
     ]
    }
   ],
   "source": [
    "logger.info(f'[Using SageMaker version: {sagemaker.__version__}]')"
   ]
  },
  {
   "cell_type": "markdown",
   "metadata": {},
   "source": [
    "#### Essentials \n",
    "* Create SageMaker & Feature Store Runtime Clients\n",
    "* Create a Feature Store Session encapsulating the above clients\n",
    "* Ensure the Execution Role you use for this notebook has all the required policies attached to it as per the instructions. If not, please make sure to attach them to the role before proceeding."
   ]
  },
  {
   "cell_type": "code",
   "execution_count": 5,
   "metadata": {},
   "outputs": [],
   "source": [
    "region = boto3.Session().region_name\n",
    "boto_session = boto3.Session(region_name=region)\n",
    "s3 = boto_session.resource('s3', region_name=region)\n",
    "role = get_execution_role()\n",
    "\n",
    "s3_client = boto3.client('s3', region_name=region)\n",
    "sagemaker_client = boto_session.client(service_name='sagemaker', region_name=region)\n",
    "featurestore_runtime = boto_session.client(service_name='sagemaker-featurestore-runtime', region_name=region)"
   ]
  },
  {
   "cell_type": "markdown",
   "metadata": {},
   "source": [
    "https://sagemaker.readthedocs.io/en/stable/amazon_sagemaker_featurestore.html <br>\n",
    "API Documentation: https://sagemaker.readthedocs.io/en/stable/api/prep_data/feature_store.html"
   ]
  },
  {
   "cell_type": "code",
   "execution_count": 6,
   "metadata": {},
   "outputs": [],
   "source": [
    "feature_store_session = Session(\n",
    "    boto_session=boto_session,\n",
    "    sagemaker_client=sagemaker_client,\n",
    "    sagemaker_featurestore_runtime_client=featurestore_runtime\n",
    ")"
   ]
  },
  {
   "cell_type": "markdown",
   "metadata": {},
   "source": [
    "`offline_feature_store_s3_uri` URI below is the location of your offline store"
   ]
  },
  {
   "cell_type": "code",
   "execution_count": 7,
   "metadata": {},
   "outputs": [
    {
     "data": {
      "text/plain": [
       "'s3://sagemaker-feature-store-account-a/'"
      ]
     },
     "execution_count": 7,
     "metadata": {},
     "output_type": "execute_result"
    }
   ],
   "source": [
    "bucket = 'sagemaker-feature-store-account-a'\n",
    "offline_feature_store_s3_uri = f's3://{bucket}/'\n",
    "offline_feature_store_s3_uri"
   ]
  },
  {
   "cell_type": "markdown",
   "metadata": {},
   "source": [
    "#### Load Features "
   ]
  },
  {
   "cell_type": "code",
   "execution_count": 8,
   "metadata": {},
   "outputs": [],
   "source": [
    "features = pd.read_csv('features.csv', names=['employee_id', 'name', 'age', 'sex', 'happiness_score'])\n",
    "features['created_by'] = 'account-b'"
   ]
  },
  {
   "cell_type": "code",
   "execution_count": 9,
   "metadata": {},
   "outputs": [
    {
     "data": {
      "text/plain": [
       "employee_id          int64\n",
       "name                object\n",
       "age                  int64\n",
       "sex                 object\n",
       "happiness_score    float64\n",
       "created_by          object\n",
       "dtype: object"
      ]
     },
     "execution_count": 9,
     "metadata": {},
     "output_type": "execute_result"
    }
   ],
   "source": [
    "features.dtypes"
   ]
  },
  {
   "cell_type": "markdown",
   "metadata": {},
   "source": [
    "### Ingest Features into SageMaker Feature Store"
   ]
  },
  {
   "cell_type": "code",
   "execution_count": 10,
   "metadata": {},
   "outputs": [],
   "source": [
    "record_identifier_feature_name = 'employee_id'\n",
    "event_time_feature_name = 'event_time'"
   ]
  },
  {
   "cell_type": "markdown",
   "metadata": {},
   "source": [
    "#### Create Feature Group"
   ]
  },
  {
   "cell_type": "code",
   "execution_count": 11,
   "metadata": {},
   "outputs": [],
   "source": [
    "feature_group_name = 'employees'\n",
    "feature_group = FeatureGroup(name=feature_group_name, sagemaker_session=feature_store_session)"
   ]
  },
  {
   "cell_type": "markdown",
   "metadata": {},
   "source": [
    "Feature Store supported types are `String`, `Fractional`, and `Integral`. The default type is set to `String`. This means that, if a column in your dataset is not a `float` or `long` type, it will default to `String` in your feature store."
   ]
  },
  {
   "cell_type": "code",
   "execution_count": 12,
   "metadata": {},
   "outputs": [],
   "source": [
    "def cast_object_to_string(df):\n",
    "    \"\"\"\n",
    "    Cast object dtype to string. The SageMaker FeatureStore Python SDK will then \n",
    "    map the string dtype to String feature type.\n",
    "    \"\"\"\n",
    "    for label in df.columns:\n",
    "        if df.dtypes[label] == 'object':\n",
    "            df[label] = df[label].astype('string')"
   ]
  },
  {
   "cell_type": "code",
   "execution_count": 13,
   "metadata": {},
   "outputs": [],
   "source": [
    "cast_object_to_string(features)"
   ]
  },
  {
   "cell_type": "markdown",
   "metadata": {},
   "source": [
    "#### Append event_time to the `features` dataframe "
   ]
  },
  {
   "cell_type": "code",
   "execution_count": 14,
   "metadata": {},
   "outputs": [],
   "source": [
    "current_time_sec = int(round(time.time()))\n",
    "features[event_time_feature_name] = pd.Series([current_time_sec]*len(features), dtype='float64')"
   ]
  },
  {
   "cell_type": "code",
   "execution_count": 15,
   "metadata": {},
   "outputs": [
    {
     "data": {
      "text/plain": [
       "employee_id          int64\n",
       "name                string\n",
       "age                  int64\n",
       "sex                 string\n",
       "happiness_score    float64\n",
       "created_by          string\n",
       "event_time         float64\n",
       "dtype: object"
      ]
     },
     "execution_count": 15,
     "metadata": {},
     "output_type": "execute_result"
    }
   ],
   "source": [
    "features.dtypes"
   ]
  },
  {
   "cell_type": "code",
   "execution_count": 16,
   "metadata": {},
   "outputs": [
    {
     "data": {
      "text/html": [
       "<div>\n",
       "<style scoped>\n",
       "    .dataframe tbody tr th:only-of-type {\n",
       "        vertical-align: middle;\n",
       "    }\n",
       "\n",
       "    .dataframe tbody tr th {\n",
       "        vertical-align: top;\n",
       "    }\n",
       "\n",
       "    .dataframe thead th {\n",
       "        text-align: right;\n",
       "    }\n",
       "</style>\n",
       "<table border=\"1\" class=\"dataframe\">\n",
       "  <thead>\n",
       "    <tr style=\"text-align: right;\">\n",
       "      <th></th>\n",
       "      <th>employee_id</th>\n",
       "      <th>name</th>\n",
       "      <th>age</th>\n",
       "      <th>sex</th>\n",
       "      <th>happiness_score</th>\n",
       "      <th>created_by</th>\n",
       "      <th>event_time</th>\n",
       "    </tr>\n",
       "  </thead>\n",
       "  <tbody>\n",
       "    <tr>\n",
       "      <th>0</th>\n",
       "      <td>100</td>\n",
       "      <td>farah</td>\n",
       "      <td>43</td>\n",
       "      <td>F</td>\n",
       "      <td>2.9</td>\n",
       "      <td>account-b</td>\n",
       "      <td>1.609049e+09</td>\n",
       "    </tr>\n",
       "    <tr>\n",
       "      <th>1</th>\n",
       "      <td>101</td>\n",
       "      <td>grant</td>\n",
       "      <td>13</td>\n",
       "      <td>M</td>\n",
       "      <td>1.0</td>\n",
       "      <td>account-b</td>\n",
       "      <td>1.609049e+09</td>\n",
       "    </tr>\n",
       "    <tr>\n",
       "      <th>2</th>\n",
       "      <td>102</td>\n",
       "      <td>hailey</td>\n",
       "      <td>27</td>\n",
       "      <td>F</td>\n",
       "      <td>3.1</td>\n",
       "      <td>account-b</td>\n",
       "      <td>1.609049e+09</td>\n",
       "    </tr>\n",
       "    <tr>\n",
       "      <th>3</th>\n",
       "      <td>103</td>\n",
       "      <td>irene</td>\n",
       "      <td>23</td>\n",
       "      <td>F</td>\n",
       "      <td>4.3</td>\n",
       "      <td>account-b</td>\n",
       "      <td>1.609049e+09</td>\n",
       "    </tr>\n",
       "    <tr>\n",
       "      <th>4</th>\n",
       "      <td>104</td>\n",
       "      <td>jack</td>\n",
       "      <td>54</td>\n",
       "      <td>M</td>\n",
       "      <td>3.3</td>\n",
       "      <td>account-b</td>\n",
       "      <td>1.609049e+09</td>\n",
       "    </tr>\n",
       "  </tbody>\n",
       "</table>\n",
       "</div>"
      ],
      "text/plain": [
       "   employee_id    name  age sex  happiness_score created_by    event_time\n",
       "0          100   farah   43   F              2.9  account-b  1.609049e+09\n",
       "1          101   grant   13   M              1.0  account-b  1.609049e+09\n",
       "2          102  hailey   27   F              3.1  account-b  1.609049e+09\n",
       "3          103   irene   23   F              4.3  account-b  1.609049e+09\n",
       "4          104    jack   54   M              3.3  account-b  1.609049e+09"
      ]
     },
     "execution_count": 16,
     "metadata": {},
     "output_type": "execute_result"
    }
   ],
   "source": [
    "features"
   ]
  },
  {
   "cell_type": "markdown",
   "metadata": {},
   "source": [
    "#### Load Feature Definitions\n",
    "SageMaker FeatureStore Python SDK will auto-detect the data schema based on input data"
   ]
  },
  {
   "cell_type": "code",
   "execution_count": 17,
   "metadata": {},
   "outputs": [
    {
     "data": {
      "text/plain": [
       "[FeatureDefinition(feature_name='employee_id', feature_type=<FeatureTypeEnum.INTEGRAL: 'Integral'>),\n",
       " FeatureDefinition(feature_name='name', feature_type=<FeatureTypeEnum.STRING: 'String'>),\n",
       " FeatureDefinition(feature_name='age', feature_type=<FeatureTypeEnum.INTEGRAL: 'Integral'>),\n",
       " FeatureDefinition(feature_name='sex', feature_type=<FeatureTypeEnum.STRING: 'String'>),\n",
       " FeatureDefinition(feature_name='happiness_score', feature_type=<FeatureTypeEnum.FRACTIONAL: 'Fractional'>),\n",
       " FeatureDefinition(feature_name='created_by', feature_type=<FeatureTypeEnum.STRING: 'String'>),\n",
       " FeatureDefinition(feature_name='event_time', feature_type=<FeatureTypeEnum.FRACTIONAL: 'Fractional'>)]"
      ]
     },
     "execution_count": 17,
     "metadata": {},
     "output_type": "execute_result"
    }
   ],
   "source": [
    "feature_group.load_feature_definitions(data_frame=features)"
   ]
  },
  {
   "cell_type": "markdown",
   "metadata": {},
   "source": [
    "#### KMS Custom Key ID"
   ]
  },
  {
   "cell_type": "markdown",
   "metadata": {},
   "source": [
    "Use the KMS Customer Managed Key (CMK) for encrypting the data inside the feature store."
   ]
  },
  {
   "cell_type": "code",
   "execution_count": 18,
   "metadata": {},
   "outputs": [],
   "source": [
    "kms_key = 'arn:aws:kms:us-east-1:892313895307:key/d3763b61-8d94-43bd-a3d6-4b4516ad28e7'"
   ]
  },
  {
   "cell_type": "markdown",
   "metadata": {},
   "source": [
    "#### Create Feature Group"
   ]
  },
  {
   "cell_type": "markdown",
   "metadata": {},
   "source": [
    "Delete feature group if it already exists by uncommenting the line below."
   ]
  },
  {
   "cell_type": "code",
   "execution_count": 20,
   "metadata": {},
   "outputs": [],
   "source": [
    "#sagemaker_client.delete_feature_group(FeatureGroupName='employees')"
   ]
  },
  {
   "cell_type": "markdown",
   "metadata": {},
   "source": [
    "Create the feature group named `employees`"
   ]
  },
  {
   "cell_type": "code",
   "execution_count": 21,
   "metadata": {},
   "outputs": [
    {
     "data": {
      "text/plain": [
       "{'FeatureGroupArn': 'arn:aws:sagemaker:us-east-1:149456328460:feature-group/employees',\n",
       " 'ResponseMetadata': {'RequestId': '64f1cfa5-ff2b-4880-be30-0d9332a2c5bd',\n",
       "  'HTTPStatusCode': 200,\n",
       "  'HTTPHeaders': {'x-amzn-requestid': '64f1cfa5-ff2b-4880-be30-0d9332a2c5bd',\n",
       "   'content-type': 'application/x-amz-json-1.1',\n",
       "   'content-length': '86',\n",
       "   'date': 'Sun, 27 Dec 2020 05:58:20 GMT'},\n",
       "  'RetryAttempts': 0}}"
      ]
     },
     "execution_count": 21,
     "metadata": {},
     "output_type": "execute_result"
    }
   ],
   "source": [
    "feature_group.create(\n",
    "    s3_uri=offline_feature_store_s3_uri,\n",
    "    record_identifier_name=record_identifier_feature_name,\n",
    "    event_time_feature_name=event_time_feature_name,\n",
    "    role_arn=role,\n",
    "    enable_online_store=True,\n",
    "    offline_store_kms_key_id=kms_key\n",
    ")"
   ]
  },
  {
   "cell_type": "markdown",
   "metadata": {},
   "source": [
    "<b>Note:</b> Ensure `FeatureGroupStatus` of the created feature group shows as `Created` before proceeding to the next steps."
   ]
  },
  {
   "cell_type": "markdown",
   "metadata": {},
   "source": [
    "#### Validate if feature group is created"
   ]
  },
  {
   "cell_type": "code",
   "execution_count": 22,
   "metadata": {},
   "outputs": [
    {
     "data": {
      "text/plain": [
       "{'FeatureGroupArn': 'arn:aws:sagemaker:us-east-1:149456328460:feature-group/employees',\n",
       " 'FeatureGroupName': 'employees',\n",
       " 'RecordIdentifierFeatureName': 'employee_id',\n",
       " 'EventTimeFeatureName': 'event_time',\n",
       " 'FeatureDefinitions': [{'FeatureName': 'employee_id',\n",
       "   'FeatureType': 'Integral'},\n",
       "  {'FeatureName': 'name', 'FeatureType': 'String'},\n",
       "  {'FeatureName': 'age', 'FeatureType': 'Integral'},\n",
       "  {'FeatureName': 'sex', 'FeatureType': 'String'},\n",
       "  {'FeatureName': 'happiness_score', 'FeatureType': 'Fractional'},\n",
       "  {'FeatureName': 'created_by', 'FeatureType': 'String'},\n",
       "  {'FeatureName': 'event_time', 'FeatureType': 'Fractional'}],\n",
       " 'CreationTime': datetime.datetime(2020, 12, 27, 5, 58, 20, 283000, tzinfo=tzlocal()),\n",
       " 'OnlineStoreConfig': {'EnableOnlineStore': True},\n",
       " 'OfflineStoreConfig': {'S3StorageConfig': {'S3Uri': 's3://sagemaker-feature-store-account-a/',\n",
       "   'KmsKeyId': 'arn:aws:kms:us-east-1:892313895307:key/d3763b61-8d94-43bd-a3d6-4b4516ad28e7'},\n",
       "  'DisableGlueTableCreation': False},\n",
       " 'RoleArn': 'arn:aws:iam::149456328460:role/service-role/AmazonSageMaker-ExecutionRole-20201218T162631',\n",
       " 'FeatureGroupStatus': 'Creating',\n",
       " 'ResponseMetadata': {'RequestId': 'ebe528f7-a2b4-4c9b-8ad4-223c8a201327',\n",
       "  'HTTPStatusCode': 200,\n",
       "  'HTTPHeaders': {'x-amzn-requestid': 'ebe528f7-a2b4-4c9b-8ad4-223c8a201327',\n",
       "   'content-type': 'application/x-amz-json-1.1',\n",
       "   'content-length': '1010',\n",
       "   'date': 'Sun, 27 Dec 2020 05:58:22 GMT'},\n",
       "  'RetryAttempts': 0}}"
      ]
     },
     "execution_count": 22,
     "metadata": {},
     "output_type": "execute_result"
    }
   ],
   "source": [
    "feature_group.describe()"
   ]
  },
  {
   "cell_type": "code",
   "execution_count": 25,
   "metadata": {},
   "outputs": [
    {
     "data": {
      "text/plain": [
       "{'FeatureGroupSummaries': [{'FeatureGroupName': 'employees',\n",
       "   'FeatureGroupArn': 'arn:aws:sagemaker:us-east-1:149456328460:feature-group/employees',\n",
       "   'CreationTime': datetime.datetime(2020, 12, 27, 5, 58, 20, 283000, tzinfo=tzlocal()),\n",
       "   'FeatureGroupStatus': 'Created'}],\n",
       " 'ResponseMetadata': {'RequestId': '89f697a7-619a-493c-8955-def78527d4db',\n",
       "  'HTTPStatusCode': 200,\n",
       "  'HTTPHeaders': {'x-amzn-requestid': '89f697a7-619a-493c-8955-def78527d4db',\n",
       "   'content-type': 'application/x-amz-json-1.1',\n",
       "   'content-length': '208',\n",
       "   'date': 'Sun, 27 Dec 2020 05:58:31 GMT'},\n",
       "  'RetryAttempts': 0}}"
      ]
     },
     "execution_count": 25,
     "metadata": {},
     "output_type": "execute_result"
    }
   ],
   "source": [
    "sagemaker_client.list_feature_groups()"
   ]
  },
  {
   "cell_type": "markdown",
   "metadata": {},
   "source": [
    "#### Put Records into Feature Group (Both Online & Offline)"
   ]
  },
  {
   "cell_type": "markdown",
   "metadata": {},
   "source": [
    "After the FeatureGroups have been created, we can put data into the FeatureGroups by using the PutRecord API. This API can handle high TPS and is designed to be called by different streams. The data from all of these Put requests is buffered and written to S3 in chunks. The files will be written to the offline store within a few minutes of ingestion. For this example, to accelerate the ingestion process, we are specifying multiple workers to do the job simultaneously. "
   ]
  },
  {
   "cell_type": "code",
   "execution_count": 26,
   "metadata": {},
   "outputs": [
    {
     "name": "stderr",
     "output_type": "stream",
     "text": [
      "Started ingesting index 0 to 1\n",
      "Started ingesting index 1 to 2\n",
      "Started ingesting index 2 to 3\n",
      "Started ingesting index 3 to 4\n",
      "Started ingesting index 4 to 5\n",
      "Successfully ingested row 0 to 1\n",
      "Successfully ingested row 4 to 5\n",
      "Successfully ingested row 1 to 2\n",
      "Successfully ingested row 2 to 3\n",
      "Successfully ingested row 3 to 4\n"
     ]
    },
    {
     "name": "stdout",
     "output_type": "stream",
     "text": [
      "CPU times: user 72.9 ms, sys: 3.97 ms, total: 76.9 ms\n",
      "Wall time: 463 ms\n"
     ]
    },
    {
     "data": {
      "text/plain": [
       "IngestionManagerPandas(feature_group_name='employees', sagemaker_session=<sagemaker.session.Session object at 0x7fc87807d588>, data_frame=   employee_id    name  age sex  happiness_score created_by    event_time\n",
       "0          100   farah   43   F              2.9  account-b  1.609049e+09\n",
       "1          101   grant   13   M              1.0  account-b  1.609049e+09\n",
       "2          102  hailey   27   F              3.1  account-b  1.609049e+09\n",
       "3          103   irene   23   F              4.3  account-b  1.609049e+09\n",
       "4          104    jack   54   M              3.3  account-b  1.609049e+09, max_workers=5, _futures={<Future at 0x7fc83f7fc748 state=finished returned NoneType>: (0, 1), <Future at 0x7fc83f801fd0 state=finished returned NoneType>: (1, 2), <Future at 0x7fc83f7fcbe0 state=finished returned NoneType>: (2, 3), <Future at 0x7fc83f7fcb38 state=finished returned NoneType>: (3, 4), <Future at 0x7fc83f7fcf28 state=finished returned NoneType>: (4, 5)})"
      ]
     },
     "execution_count": 26,
     "metadata": {},
     "output_type": "execute_result"
    }
   ],
   "source": [
    "%%time\n",
    "\n",
    "feature_group.ingest(data_frame=features, max_workers=5, wait=True)"
   ]
  },
  {
   "cell_type": "markdown",
   "metadata": {},
   "source": [
    "### Get Record from Online Store (Available Immediately)"
   ]
  },
  {
   "cell_type": "markdown",
   "metadata": {},
   "source": [
    "To confirm that data has been ingested, we can quickly retrieve a record from the online store:"
   ]
  },
  {
   "cell_type": "code",
   "execution_count": 27,
   "metadata": {},
   "outputs": [
    {
     "data": {
      "text/plain": [
       "{'ResponseMetadata': {'RequestId': '910091dd-7c8c-494c-ad87-b057ee9c9602',\n",
       "  'HTTPStatusCode': 200,\n",
       "  'HTTPHeaders': {'x-amzn-requestid': '910091dd-7c8c-494c-ad87-b057ee9c9602',\n",
       "   'content-type': 'application/json',\n",
       "   'content-length': '369',\n",
       "   'date': 'Sun, 27 Dec 2020 05:58:40 GMT',\n",
       "   'connection': 'close'},\n",
       "  'RetryAttempts': 0},\n",
       " 'Record': [{'FeatureName': 'employee_id', 'ValueAsString': '101'},\n",
       "  {'FeatureName': 'name', 'ValueAsString': 'grant'},\n",
       "  {'FeatureName': 'age', 'ValueAsString': '13'},\n",
       "  {'FeatureName': 'sex', 'ValueAsString': 'M'},\n",
       "  {'FeatureName': 'happiness_score', 'ValueAsString': '1.0'},\n",
       "  {'FeatureName': 'created_by', 'ValueAsString': 'account-b'},\n",
       "  {'FeatureName': 'event_time', 'ValueAsString': '1609048684.0'}]}"
      ]
     },
     "execution_count": 27,
     "metadata": {},
     "output_type": "execute_result"
    }
   ],
   "source": [
    "record_identifier = str(101)\n",
    "\n",
    "featurestore_runtime.get_record(FeatureGroupName=feature_group_name, \n",
    "                                RecordIdentifierValueAsString=record_identifier)"
   ]
  },
  {
   "cell_type": "markdown",
   "metadata": {},
   "source": [
    "### Get Records from Offline Store\n",
    "Now let's wait for the data to appear in our offline store before moving forward to creating a dataset. This will take approximately 5 minutes."
   ]
  },
  {
   "cell_type": "code",
   "execution_count": 28,
   "metadata": {},
   "outputs": [],
   "source": [
    "account_id = boto3.client('sts').get_caller_identity()['Account']"
   ]
  },
  {
   "cell_type": "code",
   "execution_count": 29,
   "metadata": {},
   "outputs": [
    {
     "data": {
      "text/plain": [
       "'149456328460/sagemaker/us-east-1/offline-store/employees/data'"
      ]
     },
     "execution_count": 29,
     "metadata": {},
     "output_type": "execute_result"
    }
   ],
   "source": [
    "feature_group_s3_prefix = f'{account_id}/sagemaker/{region}/offline-store/{feature_group_name}/data'\n",
    "feature_group_s3_prefix"
   ]
  },
  {
   "cell_type": "code",
   "execution_count": 30,
   "metadata": {},
   "outputs": [
    {
     "name": "stderr",
     "output_type": "stream",
     "text": [
      "[Waiting for data in Offline Store...]\n",
      "[Waiting for data in Offline Store...]\n",
      "[Waiting for data in Offline Store...]\n",
      "[Waiting for data in Offline Store...]\n",
      "[Waiting for data in Offline Store...]\n",
      "[Waiting for data in Offline Store...]\n",
      "[Features are available in Offline Store!]\n"
     ]
    }
   ],
   "source": [
    "offline_store_contents = None\n",
    "while offline_store_contents is None:\n",
    "    objects = s3_client.list_objects(Bucket=bucket, Prefix=feature_group_s3_prefix)\n",
    "    if 'Contents' in objects and len(objects['Contents']) > 1:\n",
    "        logger.info('[Features are available in Offline Store!]')\n",
    "        offline_store_contents = objects['Contents']\n",
    "    else:\n",
    "        logger.info('[Waiting for data in Offline Store...]')\n",
    "        time.sleep(60)"
   ]
  },
  {
   "cell_type": "code",
   "execution_count": 31,
   "metadata": {},
   "outputs": [
    {
     "data": {
      "text/plain": [
       "[{'Key': '149456328460/sagemaker/us-east-1/offline-store/employees/data/year=2020/month=12/day=27/hour=05/20201227T055804Z_g0RfUU00NRUTPNzQ.parquet',\n",
       "  'LastModified': datetime.datetime(2020, 12, 27, 6, 4, 34, tzinfo=tzlocal()),\n",
       "  'ETag': '\"56b640f74f7af0a8500626b697ae8a62\"',\n",
       "  'Size': 2137,\n",
       "  'StorageClass': 'STANDARD',\n",
       "  'Owner': {'DisplayName': 'arunprsh',\n",
       "   'ID': '149b24f8987e48d549b9c2b494029c94d6c1e8b7b91092cad62ca7cd89aea747'}},\n",
       " {'Key': '149456328460/sagemaker/us-east-1/offline-store/employees/data/year=2020/month=12/day=27/hour=05/20201227T055804Z_sDCkKUEjSM6evhC4.parquet',\n",
       "  'LastModified': datetime.datetime(2020, 12, 27, 6, 4, 34, tzinfo=tzlocal()),\n",
       "  'ETag': '\"e8082d7c64062858b4147311a0997c21\"',\n",
       "  'Size': 2081,\n",
       "  'StorageClass': 'STANDARD',\n",
       "  'Owner': {'DisplayName': 'arunprsh',\n",
       "   'ID': '149b24f8987e48d549b9c2b494029c94d6c1e8b7b91092cad62ca7cd89aea747'}}]"
      ]
     },
     "execution_count": 31,
     "metadata": {},
     "output_type": "execute_result"
    }
   ],
   "source": [
    "offline_store_contents"
   ]
  },
  {
   "cell_type": "markdown",
   "metadata": {},
   "source": [
    "#### Inspect the Parquet Files (Offline Store) using AWS Wrangler"
   ]
  },
  {
   "cell_type": "code",
   "execution_count": 32,
   "metadata": {},
   "outputs": [
    {
     "data": {
      "text/plain": [
       "'s3://sagemaker-feature-store-account-a/149456328460/sagemaker/us-east-1/offline-store/employees/data'"
      ]
     },
     "execution_count": 32,
     "metadata": {},
     "output_type": "execute_result"
    }
   ],
   "source": [
    "s3_prefix = '/'.join(offline_store_contents[0]['Key'].split('/')[:-5])\n",
    "s3_uri = f's3://{bucket}/{s3_prefix}'\n",
    "s3_uri"
   ]
  },
  {
   "cell_type": "code",
   "execution_count": 33,
   "metadata": {},
   "outputs": [],
   "source": [
    "df = wr.s3.read_parquet(path=s3_uri)"
   ]
  },
  {
   "cell_type": "code",
   "execution_count": 34,
   "metadata": {},
   "outputs": [
    {
     "data": {
      "text/html": [
       "<div>\n",
       "<style scoped>\n",
       "    .dataframe tbody tr th:only-of-type {\n",
       "        vertical-align: middle;\n",
       "    }\n",
       "\n",
       "    .dataframe tbody tr th {\n",
       "        vertical-align: top;\n",
       "    }\n",
       "\n",
       "    .dataframe thead th {\n",
       "        text-align: right;\n",
       "    }\n",
       "</style>\n",
       "<table border=\"1\" class=\"dataframe\">\n",
       "  <thead>\n",
       "    <tr style=\"text-align: right;\">\n",
       "      <th></th>\n",
       "      <th>employee_id</th>\n",
       "      <th>name</th>\n",
       "      <th>age</th>\n",
       "      <th>sex</th>\n",
       "      <th>happiness_score</th>\n",
       "      <th>created_by</th>\n",
       "      <th>event_time</th>\n",
       "      <th>write_time</th>\n",
       "      <th>api_invocation_time</th>\n",
       "      <th>is_deleted</th>\n",
       "    </tr>\n",
       "  </thead>\n",
       "  <tbody>\n",
       "    <tr>\n",
       "      <th>0</th>\n",
       "      <td>104</td>\n",
       "      <td>jack</td>\n",
       "      <td>54</td>\n",
       "      <td>M</td>\n",
       "      <td>3.3</td>\n",
       "      <td>account-b</td>\n",
       "      <td>1.609049e+09</td>\n",
       "      <td>2020-12-27 06:04:33.309000+00:00</td>\n",
       "      <td>2020-12-27 05:58:37+00:00</td>\n",
       "      <td>False</td>\n",
       "    </tr>\n",
       "    <tr>\n",
       "      <th>1</th>\n",
       "      <td>102</td>\n",
       "      <td>hailey</td>\n",
       "      <td>27</td>\n",
       "      <td>F</td>\n",
       "      <td>3.1</td>\n",
       "      <td>account-b</td>\n",
       "      <td>1.609049e+09</td>\n",
       "      <td>2020-12-27 06:04:33.309000+00:00</td>\n",
       "      <td>2020-12-27 05:58:37+00:00</td>\n",
       "      <td>False</td>\n",
       "    </tr>\n",
       "    <tr>\n",
       "      <th>2</th>\n",
       "      <td>103</td>\n",
       "      <td>irene</td>\n",
       "      <td>23</td>\n",
       "      <td>F</td>\n",
       "      <td>4.3</td>\n",
       "      <td>account-b</td>\n",
       "      <td>1.609049e+09</td>\n",
       "      <td>2020-12-27 06:04:33.309000+00:00</td>\n",
       "      <td>2020-12-27 05:58:37+00:00</td>\n",
       "      <td>False</td>\n",
       "    </tr>\n",
       "    <tr>\n",
       "      <th>0</th>\n",
       "      <td>100</td>\n",
       "      <td>farah</td>\n",
       "      <td>43</td>\n",
       "      <td>F</td>\n",
       "      <td>2.9</td>\n",
       "      <td>account-b</td>\n",
       "      <td>1.609049e+09</td>\n",
       "      <td>2020-12-27 06:04:33.293000+00:00</td>\n",
       "      <td>2020-12-27 05:58:37+00:00</td>\n",
       "      <td>False</td>\n",
       "    </tr>\n",
       "    <tr>\n",
       "      <th>1</th>\n",
       "      <td>101</td>\n",
       "      <td>grant</td>\n",
       "      <td>13</td>\n",
       "      <td>M</td>\n",
       "      <td>1.0</td>\n",
       "      <td>account-b</td>\n",
       "      <td>1.609049e+09</td>\n",
       "      <td>2020-12-27 06:04:33.293000+00:00</td>\n",
       "      <td>2020-12-27 05:58:37+00:00</td>\n",
       "      <td>False</td>\n",
       "    </tr>\n",
       "  </tbody>\n",
       "</table>\n",
       "</div>"
      ],
      "text/plain": [
       "   employee_id    name  age sex  happiness_score created_by    event_time  \\\n",
       "0          104    jack   54   M              3.3  account-b  1.609049e+09   \n",
       "1          102  hailey   27   F              3.1  account-b  1.609049e+09   \n",
       "2          103   irene   23   F              4.3  account-b  1.609049e+09   \n",
       "0          100   farah   43   F              2.9  account-b  1.609049e+09   \n",
       "1          101   grant   13   M              1.0  account-b  1.609049e+09   \n",
       "\n",
       "                        write_time       api_invocation_time  is_deleted  \n",
       "0 2020-12-27 06:04:33.309000+00:00 2020-12-27 05:58:37+00:00       False  \n",
       "1 2020-12-27 06:04:33.309000+00:00 2020-12-27 05:58:37+00:00       False  \n",
       "2 2020-12-27 06:04:33.309000+00:00 2020-12-27 05:58:37+00:00       False  \n",
       "0 2020-12-27 06:04:33.293000+00:00 2020-12-27 05:58:37+00:00       False  \n",
       "1 2020-12-27 06:04:33.293000+00:00 2020-12-27 05:58:37+00:00       False  "
      ]
     },
     "execution_count": 34,
     "metadata": {},
     "output_type": "execute_result"
    }
   ],
   "source": [
    "df"
   ]
  },
  {
   "cell_type": "markdown",
   "metadata": {},
   "source": [
    "### Build Train Set from Offline Store Features using Glue and Athena\n",
    "SageMaker FeatureStore <b>automatically</b> builds the `Glue Data Catalog` for FeatureGroups (you can optionally turn it on/off while creating the FeatureGroup). In this example, we want to create one training dataset with FeatureValues from the feature group we created. This is done by utilizing the auto-built Catalog. We can then run an `Athena` query that pulls the data stored in the offline store in S3 from the FeatureGroup."
   ]
  },
  {
   "cell_type": "code",
   "execution_count": 35,
   "metadata": {},
   "outputs": [
    {
     "data": {
      "text/plain": [
       "{'catalog': 'AwsDataCatalog',\n",
       " 'database': 'sagemaker_featurestore',\n",
       " 'table_name': 'employees-1609048700',\n",
       " 'sagemaker_session': <sagemaker.session.Session at 0x7fc87807d588>,\n",
       " '_current_query_execution_id': None,\n",
       " '_result_bucket': None,\n",
       " '_result_file_prefix': None}"
      ]
     },
     "execution_count": 35,
     "metadata": {},
     "output_type": "execute_result"
    }
   ],
   "source": [
    "query = feature_group.athena_query()\n",
    "query.__dict__"
   ]
  },
  {
   "cell_type": "code",
   "execution_count": 36,
   "metadata": {},
   "outputs": [
    {
     "data": {
      "text/plain": [
       "'employees-1609048700'"
      ]
     },
     "execution_count": 36,
     "metadata": {},
     "output_type": "execute_result"
    }
   ],
   "source": [
    "table = query.table_name\n",
    "table"
   ]
  },
  {
   "cell_type": "code",
   "execution_count": 37,
   "metadata": {},
   "outputs": [
    {
     "name": "stdout",
     "output_type": "stream",
     "text": [
      "Running SELECT * FROM \"employees-1609048700\"\n"
     ]
    }
   ],
   "source": [
    "query_string = f'SELECT * FROM \"{table}\"'\n",
    "print('Running ' + query_string)"
   ]
  },
  {
   "cell_type": "code",
   "execution_count": 38,
   "metadata": {},
   "outputs": [
    {
     "name": "stderr",
     "output_type": "stream",
     "text": [
      "Query c45e48f6-a7ba-4601-942a-028b32322ab2 is being executed.\n",
      "Query c45e48f6-a7ba-4601-942a-028b32322ab2 successfully executed.\n"
     ]
    }
   ],
   "source": [
    "query.run(query_string=query_string, output_location=f's3://{bucket}/{account_id}/query_results/')\n",
    "query.wait()"
   ]
  },
  {
   "cell_type": "code",
   "execution_count": 39,
   "metadata": {},
   "outputs": [
    {
     "data": {
      "text/html": [
       "<div>\n",
       "<style scoped>\n",
       "    .dataframe tbody tr th:only-of-type {\n",
       "        vertical-align: middle;\n",
       "    }\n",
       "\n",
       "    .dataframe tbody tr th {\n",
       "        vertical-align: top;\n",
       "    }\n",
       "\n",
       "    .dataframe thead th {\n",
       "        text-align: right;\n",
       "    }\n",
       "</style>\n",
       "<table border=\"1\" class=\"dataframe\">\n",
       "  <thead>\n",
       "    <tr style=\"text-align: right;\">\n",
       "      <th></th>\n",
       "      <th>employee_id</th>\n",
       "      <th>name</th>\n",
       "      <th>age</th>\n",
       "      <th>sex</th>\n",
       "      <th>happiness_score</th>\n",
       "      <th>created_by</th>\n",
       "    </tr>\n",
       "  </thead>\n",
       "  <tbody>\n",
       "    <tr>\n",
       "      <th>0</th>\n",
       "      <td>104</td>\n",
       "      <td>jack</td>\n",
       "      <td>54</td>\n",
       "      <td>M</td>\n",
       "      <td>3.3</td>\n",
       "      <td>account-b</td>\n",
       "    </tr>\n",
       "    <tr>\n",
       "      <th>1</th>\n",
       "      <td>102</td>\n",
       "      <td>hailey</td>\n",
       "      <td>27</td>\n",
       "      <td>F</td>\n",
       "      <td>3.1</td>\n",
       "      <td>account-b</td>\n",
       "    </tr>\n",
       "    <tr>\n",
       "      <th>2</th>\n",
       "      <td>103</td>\n",
       "      <td>irene</td>\n",
       "      <td>23</td>\n",
       "      <td>F</td>\n",
       "      <td>4.3</td>\n",
       "      <td>account-b</td>\n",
       "    </tr>\n",
       "    <tr>\n",
       "      <th>3</th>\n",
       "      <td>100</td>\n",
       "      <td>farah</td>\n",
       "      <td>43</td>\n",
       "      <td>F</td>\n",
       "      <td>2.9</td>\n",
       "      <td>account-b</td>\n",
       "    </tr>\n",
       "    <tr>\n",
       "      <th>4</th>\n",
       "      <td>101</td>\n",
       "      <td>grant</td>\n",
       "      <td>13</td>\n",
       "      <td>M</td>\n",
       "      <td>1.0</td>\n",
       "      <td>account-b</td>\n",
       "    </tr>\n",
       "  </tbody>\n",
       "</table>\n",
       "</div>"
      ],
      "text/plain": [
       "   employee_id    name  age sex  happiness_score created_by\n",
       "0          104    jack   54   M              3.3  account-b\n",
       "1          102  hailey   27   F              3.1  account-b\n",
       "2          103   irene   23   F              4.3  account-b\n",
       "3          100   farah   43   F              2.9  account-b\n",
       "4          101   grant   13   M              1.0  account-b"
      ]
     },
     "execution_count": 39,
     "metadata": {},
     "output_type": "execute_result"
    }
   ],
   "source": [
    "df = query.as_dataframe()[['employee_id', 'name', 'age', 'sex', 'happiness_score', 'created_by']]\n",
    "df"
   ]
  },
  {
   "cell_type": "code",
   "execution_count": null,
   "metadata": {},
   "outputs": [],
   "source": []
  }
 ],
 "metadata": {
  "kernelspec": {
   "display_name": "conda_python3",
   "language": "python",
   "name": "conda_python3"
  },
  "language_info": {
   "codemirror_mode": {
    "name": "ipython",
    "version": 3
   },
   "file_extension": ".py",
   "mimetype": "text/x-python",
   "name": "python",
   "nbconvert_exporter": "python",
   "pygments_lexer": "ipython3",
   "version": "3.6.10"
  }
 },
 "nbformat": 4,
 "nbformat_minor": 4
}
