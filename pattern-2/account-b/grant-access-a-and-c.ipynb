{
 "cells": [
  {
   "cell_type": "markdown",
   "metadata": {},
   "source": [
    "# Inside Account B\n",
    "This notebook self copies S3 objects (parquet files a.k.a features) created by Account B and redefines ACLs to enable access for Accounts A & C to use them. Use this notebook if this is a required pattern for your organization. This way feature groups/features created by Account B can be accessed directly by other accounts (A & C). This notebook is optional to run."
   ]
  },
  {
   "cell_type": "markdown",
   "metadata": {},
   "source": [
    "#### Imports "
   ]
  },
  {
   "cell_type": "code",
   "execution_count": 1,
   "metadata": {},
   "outputs": [],
   "source": [
    "import boto3"
   ]
  },
  {
   "cell_type": "code",
   "execution_count": 2,
   "metadata": {},
   "outputs": [
    {
     "name": "stdout",
     "output_type": "stream",
     "text": [
      "aws-cli/1.18.179 Python/3.6.10 Linux/4.14.200-116.320.amzn1.x86_64 botocore/1.19.19\r\n"
     ]
    }
   ],
   "source": [
    "!aws --version"
   ]
  },
  {
   "cell_type": "markdown",
   "metadata": {},
   "source": [
    "#### Essentials"
   ]
  },
  {
   "cell_type": "code",
   "execution_count": 3,
   "metadata": {},
   "outputs": [
    {
     "name": "stdout",
     "output_type": "stream",
     "text": [
      "Account B = 149456328460\n"
     ]
    }
   ],
   "source": [
    "region = boto3.Session().region_name\n",
    "s3_client = boto3.client('s3', region_name=region)\n",
    "account_id = boto3.client('sts').get_caller_identity()['Account']\n",
    "print(f'Account B = {account_id}')\n",
    "bucket = 'sagemaker-feature-store-account-a'\n",
    "feature_group_name = 'employees'"
   ]
  },
  {
   "cell_type": "code",
   "execution_count": 4,
   "metadata": {},
   "outputs": [
    {
     "data": {
      "text/plain": [
       "'149456328460/sagemaker/us-east-1/offline-store/employees/data'"
      ]
     },
     "execution_count": 4,
     "metadata": {},
     "output_type": "execute_result"
    }
   ],
   "source": [
    "feature_group_s3_prefix = f'{account_id}/sagemaker/{region}/offline-store/{feature_group_name}/data'\n",
    "feature_group_s3_prefix"
   ]
  },
  {
   "cell_type": "code",
   "execution_count": 5,
   "metadata": {},
   "outputs": [
    {
     "data": {
      "text/plain": [
       "[{'Key': '149456328460/sagemaker/us-east-1/offline-store/employees/data/year=2020/month=12/day=27/hour=05/20201227T055804Z_g0RfUU00NRUTPNzQ.parquet',\n",
       "  'LastModified': datetime.datetime(2020, 12, 27, 6, 4, 34, tzinfo=tzlocal()),\n",
       "  'ETag': '\"56b640f74f7af0a8500626b697ae8a62\"',\n",
       "  'Size': 2137,\n",
       "  'StorageClass': 'STANDARD',\n",
       "  'Owner': {'DisplayName': 'arunprsh',\n",
       "   'ID': '149b24f8987e48d549b9c2b494029c94d6c1e8b7b91092cad62ca7cd89aea747'}},\n",
       " {'Key': '149456328460/sagemaker/us-east-1/offline-store/employees/data/year=2020/month=12/day=27/hour=05/20201227T055804Z_sDCkKUEjSM6evhC4.parquet',\n",
       "  'LastModified': datetime.datetime(2020, 12, 27, 6, 4, 34, tzinfo=tzlocal()),\n",
       "  'ETag': '\"e8082d7c64062858b4147311a0997c21\"',\n",
       "  'Size': 2081,\n",
       "  'StorageClass': 'STANDARD',\n",
       "  'Owner': {'DisplayName': 'arunprsh',\n",
       "   'ID': '149b24f8987e48d549b9c2b494029c94d6c1e8b7b91092cad62ca7cd89aea747'}}]"
      ]
     },
     "execution_count": 5,
     "metadata": {},
     "output_type": "execute_result"
    }
   ],
   "source": [
    "offline_store_contents = None\n",
    "objects = s3_client.list_objects(Bucket=bucket, Prefix=feature_group_s3_prefix)\n",
    "if 'Contents' in objects and len(objects['Contents']) > 1:\n",
    "    offline_store_contents = objects['Contents']\n",
    "offline_store_contents"
   ]
  },
  {
   "cell_type": "code",
   "execution_count": 6,
   "metadata": {},
   "outputs": [],
   "source": [
    "can_id_a = \"a52ce3999cdab5111cb19ca94abf5de5a69d62f34baa7d4422c630549fad3bd0\"\n",
    "can_id_b = \"149b24f8987e48d549b9c2b494029c94d6c1e8b7b91092cad62ca7cd89aea747\"\n",
    "can_id_c = \"768394a884ee2c604687e993ff8f4f5e6320bac8de2bba100ae7686a611b9260\""
   ]
  },
  {
   "cell_type": "code",
   "execution_count": 7,
   "metadata": {},
   "outputs": [],
   "source": [
    "kms_id = \"arn:aws:kms:us-east-1:892313895307:key/d3763b61-8d94-43bd-a3d6-4b4516ad28e7\""
   ]
  },
  {
   "cell_type": "markdown",
   "metadata": {},
   "source": [
    "#### Redefine ACLs and self copy S3 objects to grant access to Account's A & C"
   ]
  },
  {
   "cell_type": "code",
   "execution_count": 8,
   "metadata": {},
   "outputs": [
    {
     "name": "stdout",
     "output_type": "stream",
     "text": [
      "Key = 149456328460/sagemaker/us-east-1/offline-store/employees/data/year=2020/month=12/day=27/hour=05/20201227T055804Z_g0RfUU00NRUTPNzQ.parquet\n",
      "{\n",
      "    \"ServerSideEncryption\": \"aws:kms\",\n",
      "    \"SSEKMSKeyId\": \"arn:aws:kms:us-east-1:892313895307:key/d3763b61-8d94-43bd-a3d6-4b4516ad28e7\",\n",
      "    \"CopyObjectResult\": {\n",
      "        \"ETag\": \"\\\"673b16948782325ad8fa1d9aa27d1c9f\\\"\",\n",
      "        \"LastModified\": \"2020-12-27T06:05:45.000Z\"\n",
      "    }\n",
      "}\n",
      "[Self-Copy Succeeded!]\n",
      "[Redefine Object ACLs Succeeded!]\n",
      "Key = 149456328460/sagemaker/us-east-1/offline-store/employees/data/year=2020/month=12/day=27/hour=05/20201227T055804Z_sDCkKUEjSM6evhC4.parquet\n",
      "{\n",
      "    \"ServerSideEncryption\": \"aws:kms\",\n",
      "    \"SSEKMSKeyId\": \"arn:aws:kms:us-east-1:892313895307:key/d3763b61-8d94-43bd-a3d6-4b4516ad28e7\",\n",
      "    \"CopyObjectResult\": {\n",
      "        \"ETag\": \"\\\"ba070c86bcedfc828a3a7531197d2f03\\\"\",\n",
      "        \"LastModified\": \"2020-12-27T06:05:48.000Z\"\n",
      "    }\n",
      "}\n",
      "[Self-Copy Succeeded!]\n",
      "[Redefine Object ACLs Succeeded!]\n"
     ]
    }
   ],
   "source": [
    "for content in offline_store_contents:\n",
    "    key = content['Key']\n",
    "    print(f'Key = {key}')\n",
    "    !aws s3api copy-object --copy-source {bucket}/{key} --key {key} --bucket {bucket} --server-side-encryption aws:kms  --ssekms-key-id {kms_id} && echo \"[Self-Copy Succeeded!]\"\n",
    "    !aws s3api put-object-acl --bucket {bucket} --key {key} --grant-full-control id=$can_id_a,id=$can_id_b,id=$can_id_c && echo \"[Redefine Object ACLs Succeeded!]\"\n",
    "     \n",
    "    "
   ]
  },
  {
   "cell_type": "code",
   "execution_count": null,
   "metadata": {},
   "outputs": [],
   "source": []
  }
 ],
 "metadata": {
  "kernelspec": {
   "display_name": "conda_python3",
   "language": "python",
   "name": "conda_python3"
  },
  "language_info": {
   "codemirror_mode": {
    "name": "ipython",
    "version": 3
   },
   "file_extension": ".py",
   "mimetype": "text/x-python",
   "name": "python",
   "nbconvert_exporter": "python",
   "pygments_lexer": "ipython3",
   "version": "3.6.10"
  }
 },
 "nbformat": 4,
 "nbformat_minor": 4
}
